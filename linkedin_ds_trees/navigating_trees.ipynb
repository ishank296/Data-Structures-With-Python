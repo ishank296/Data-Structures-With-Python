{
 "cells": [
  {
   "cell_type": "markdown",
   "metadata": {},
   "source": [
    "### $$ Building Basic Tree $$"
   ]
  },
  {
   "cell_type": "code",
   "execution_count": 1,
   "metadata": {},
   "outputs": [],
   "source": [
    "class Node:\n",
    "    def __init__(self,data):\n",
    "        self.data = data\n",
    "        self.left = None\n",
    "        self.right = None"
   ]
  },
  {
   "cell_type": "code",
   "execution_count": 2,
   "metadata": {},
   "outputs": [
    {
     "name": "stdout",
     "output_type": "stream",
     "text": [
      "5\n",
      "2\n"
     ]
    }
   ],
   "source": [
    "node = Node(10)\n",
    "node.left = Node(5)\n",
    "node.right = Node(15)\n",
    "\n",
    "node.left.left = Node(2)\n",
    "node.left.right = Node(6)\n",
    "\n",
    "node.right.left = Node(13)\n",
    "node.right.right =Node(10000)\n",
    "\n",
    "print(node.left.data)\n",
    "print(node.left.left.data)"
   ]
  },
  {
   "cell_type": "code",
   "execution_count": 3,
   "metadata": {},
   "outputs": [
    {
     "name": "stdout",
     "output_type": "stream",
     "text": [
      "6\n",
      "10000\n"
     ]
    }
   ],
   "source": [
    "class Tree:\n",
    "    def __init__(self,root):\n",
    "        self.root = root\n",
    "\n",
    "myTree = Tree(node)\n",
    "print(myTree.root.left.right.data)\n",
    "print(myTree.root.right.right.data)"
   ]
  },
  {
   "cell_type": "markdown",
   "metadata": {},
   "source": [
    "### $$ Searching Tree $$"
   ]
  },
  {
   "cell_type": "code",
   "execution_count": 4,
   "metadata": {},
   "outputs": [],
   "source": [
    "class SearchableTree(Tree):\n",
    "    def search(self,target,node=None):\n",
    "        if node==None:node =self.root\n",
    "        if node.data == target:\n",
    "            print(\"Found it!\")\n",
    "            return node\n",
    "        if node.left and target < node.data:\n",
    "            return self.search(target,node.left)\n",
    "        elif node.right and target > node.data:\n",
    "            return self.search(target,node.right)\n",
    "        print(\"Value is not there in tree!\")\n",
    "        return None"
   ]
  },
  {
   "cell_type": "code",
   "execution_count": 5,
   "metadata": {},
   "outputs": [
    {
     "name": "stdout",
     "output_type": "stream",
     "text": [
      "Found it!\n",
      "13\n",
      "Value is not there in tree!\n"
     ]
    }
   ],
   "source": [
    "newTree = SearchableTree(node)\n",
    "newTree.root.left = Node(5)\n",
    "newTree.root.left.left = Node(3)\n",
    "newTree.root.left.right = Node(7)\n",
    "\n",
    "newTree.right = Node(15)\n",
    "newTree.right.right = Node(100)\n",
    "newTree.right.left = Node(13)\n",
    "\n",
    "n=newTree.search(13)\n",
    "print(n.data)\n",
    "newTree.search(23)"
   ]
  },
  {
   "cell_type": "markdown",
   "metadata": {},
   "source": [
    "### $$ Tree Traversals $$ "
   ]
  },
  {
   "cell_type": "markdown",
   "metadata": {},
   "source": [
    " $$ PreOrder : ROOT >>> LEFT >>> RIGHT $$\n",
    " $$ InOrder  : LEFT >>> ROOT >>> RIGHT $$\n",
    " $$ PostOrder : LEFT >>> RIGHT >>> ROOT $$"
   ]
  },
  {
   "cell_type": "code",
   "execution_count": 6,
   "metadata": {},
   "outputs": [],
   "source": [
    "class TraversableTree(Tree):\n",
    "    def preOrderTraverse(self,node=None):\n",
    "        if node is None:node=self.root\n",
    "        print(node.data,end=\" \")\n",
    "        if node.left: self.preOrderTraverse(node.left)\n",
    "        if node.right: self.preOrderTraverse(node.right)\n",
    "    \n",
    "    def inOrderTraverse(self,node=None):\n",
    "        if node is None:node=self.root\n",
    "        if node.left: self.inOrderTraverse(node.left)\n",
    "        print(node.data,end=\" \")\n",
    "        if node.right: self.inOrderTraverse(node.right)\n",
    "    \n",
    "    def postOrderTraverse(self,node=None):\n",
    "        if node is None:node=self.root\n",
    "        if node.left: self.postOrderTraverse(node.left)\n",
    "        if node.right: self.postOrderTraverse(node.right)\n",
    "        print(node.data,end=\" \")\n",
    "        \n",
    "    def getMaxHeight(self,node=None):\n",
    "        if node is None:node=self.root\n",
    "        left_height=0\n",
    "        right_height=0\n",
    "        if node.left: left_height = 1 + self.getMaxHeight(node.left)\n",
    "        if node.right: right_height = 1 + self.getMaxHeight(node.right)\n",
    "        return max(left_height,right_height)\n",
    "    \n",
    "    def getNodesAtDepth(self,depth,startnode=None,nodes=[]):\n",
    "        startnode = self.root if startnode is None else startnode\n",
    "        if depth==0:\n",
    "            nodes.append(startnode.data)\n",
    "            return nodes\n",
    "        if startnode.left:\n",
    "            self.getNodesAtDepth(depth-1,startnode.left,nodes)\n",
    "        if startnode.right:\n",
    "            self.getNodesAtDepth(depth-1,startnode.right,nodes)\n",
    "        return nodes"
   ]
  },
  {
   "cell_type": "code",
   "execution_count": 7,
   "metadata": {},
   "outputs": [],
   "source": [
    "newTree1 = TraversableTree(Node(30))\n",
    "newTree1.root.left=Node(15)\n",
    "newTree1.root.right=Node(60)\n",
    "newTree1.root.left.left=Node(10)\n",
    "newTree1.root.left.right=Node(17)\n",
    "newTree1.root.right.left=Node(45)\n",
    "newTree1.root.right.right = Node(61)"
   ]
  },
  {
   "cell_type": "code",
   "execution_count": 8,
   "metadata": {},
   "outputs": [
    {
     "name": "stdout",
     "output_type": "stream",
     "text": [
      "10 15 17 30 45 60 61 "
     ]
    }
   ],
   "source": [
    "newTree1.inOrderTraverse()"
   ]
  },
  {
   "cell_type": "code",
   "execution_count": 9,
   "metadata": {},
   "outputs": [
    {
     "name": "stdout",
     "output_type": "stream",
     "text": [
      "30 15 10 17 60 45 61 "
     ]
    }
   ],
   "source": [
    "newTree1.preOrderTraverse()"
   ]
  },
  {
   "cell_type": "code",
   "execution_count": 10,
   "metadata": {},
   "outputs": [
    {
     "name": "stdout",
     "output_type": "stream",
     "text": [
      "10 17 15 45 61 60 30 "
     ]
    }
   ],
   "source": [
    "newTree1.postOrderTraverse()"
   ]
  },
  {
   "cell_type": "code",
   "execution_count": 11,
   "metadata": {},
   "outputs": [
    {
     "data": {
      "text/plain": [
       "2"
      ]
     },
     "execution_count": 11,
     "metadata": {},
     "output_type": "execute_result"
    }
   ],
   "source": [
    "newTree1.getMaxHeight()"
   ]
  },
  {
   "cell_type": "code",
   "execution_count": 12,
   "metadata": {},
   "outputs": [
    {
     "name": "stdout",
     "output_type": "stream",
     "text": [
      "[10, 17, 45, 61]\n"
     ]
    }
   ],
   "source": [
    "nodes=[]\n",
    "nodes=newTree1.getNodesAtDepth(2)\n",
    "print(nodes)"
   ]
  }
 ],
 "metadata": {
  "kernelspec": {
   "display_name": "Python 3",
   "language": "python",
   "name": "python3"
  },
  "language_info": {
   "codemirror_mode": {
    "name": "ipython",
    "version": 3
   },
   "file_extension": ".py",
   "mimetype": "text/x-python",
   "name": "python",
   "nbconvert_exporter": "python",
   "pygments_lexer": "ipython3",
   "version": "3.8.5"
  }
 },
 "nbformat": 4,
 "nbformat_minor": 4
}
