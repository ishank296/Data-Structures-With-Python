{
 "cells": [
  {
   "cell_type": "markdown",
   "metadata": {},
   "source": [
    "## Stack in Python\n",
    "\n",
    "- Using List\n",
    "- Using Collections.deque\n",
    "- Using queue.LIFOQueue\n",
    "- Using our own Implementation"
   ]
  },
  {
   "cell_type": "markdown",
   "metadata": {},
   "source": [
    "## Stack Implementation using List"
   ]
  },
  {
   "cell_type": "code",
   "execution_count": 2,
   "metadata": {},
   "outputs": [
    {
     "name": "stdout",
     "output_type": "stream",
     "text": [
      "[10, 30, 70, 40]\n",
      "[10, 30, 70]\n",
      "70\n",
      "3\n"
     ]
    }
   ],
   "source": [
    "stack=list()\n",
    "stack.append(10)\n",
    "stack.append(30)\n",
    "stack.append(70)\n",
    "stack.append(40)\n",
    "print(stack)\n",
    "stack.pop()\n",
    "print(stack)\n",
    "top=stack[-1]\n",
    "print(top)\n",
    "size=len(stack)\n",
    "print(size)"
   ]
  },
  {
   "cell_type": "markdown",
   "metadata": {},
   "source": [
    "## Stack Implementation Using Deque"
   ]
  },
  {
   "cell_type": "code",
   "execution_count": 3,
   "metadata": {},
   "outputs": [],
   "source": [
    "from collections import deque"
   ]
  },
  {
   "cell_type": "code",
   "execution_count": 5,
   "metadata": {},
   "outputs": [
    {
     "name": "stdout",
     "output_type": "stream",
     "text": [
      "deque([10, 30, 70, 40])\n",
      "deque([10, 30, 70])\n",
      "70\n",
      "3\n"
     ]
    }
   ],
   "source": [
    "stack=deque()\n",
    "stack.append(10)\n",
    "stack.append(30)\n",
    "stack.append(70)\n",
    "stack.append(40)\n",
    "print(stack)\n",
    "stack.pop()\n",
    "print(stack)\n",
    "top=stack[-1]\n",
    "print(top)\n",
    "size=len(stack)\n",
    "print(size)"
   ]
  },
  {
   "cell_type": "markdown",
   "metadata": {},
   "source": [
    "## Custom Implementation of Stack"
   ]
  },
  {
   "cell_type": "code",
   "execution_count": 9,
   "metadata": {},
   "outputs": [],
   "source": [
    "class Node:\n",
    "    def __init__(self,data):\n",
    "        self.data=data\n",
    "        self.next=None\n",
    "    \n",
    "    def __str__(self):\n",
    "        return \"Node({})\".format(self.data)\n",
    "        \n",
    "\n",
    "class Stack:\n",
    "    def __init__(self):\n",
    "        self.head=None\n",
    "        self.size=0\n",
    "    \n",
    "    def push(self,x):\n",
    "        tmp = Node(x)\n",
    "        tmp.next=self.head\n",
    "        self.head=tmp\n",
    "        self.size+=1\n",
    "    \n",
    "    def pop(self):\n",
    "        if self.head == None:\n",
    "            raise Exception(\"Stack is Empty!\")\n",
    "        self.head=self.head.next\n",
    "        self.size=self.size-1\n",
    "        return head\n",
    "    \n",
    "    def peek(self):\n",
    "        if head==None:\n",
    "            raise Exception(\"Stack is Empty!\")\n",
    "        return head.data\n",
    "    \n",
    "    def size(self):\n",
    "        return self.size"
   ]
  },
  {
   "cell_type": "markdown",
   "metadata": {},
   "source": [
    "### check for balanced expression of parenthesis"
   ]
  },
  {
   "cell_type": "code",
   "execution_count": 58,
   "metadata": {},
   "outputs": [],
   "source": [
    "def check_balance_paranthesis(s):\n",
    "    open_braces= \"({[\"\n",
    "    close_braces=\"}])\"\n",
    "    stk=list()\n",
    "    for i in s:\n",
    "        if i in close_braces and len(stk) == 0:\n",
    "            return False\n",
    "        if i in close_braces:\n",
    "            top=stk[-1]\n",
    "            if (i =='}' and top=='{') or \\\n",
    "               (i ==']' and top=='[') or \\\n",
    "               (i ==')' and top=='('):\n",
    "                stk.pop()\n",
    "            else:\n",
    "                return False\n",
    "        if i in open_braces:\n",
    "            stk.append(i)\n",
    "    if len(stk)!=0:\n",
    "        return False\n",
    "    return True\n",
    "        "
   ]
  },
  {
   "cell_type": "code",
   "execution_count": 60,
   "metadata": {},
   "outputs": [
    {
     "name": "stdout",
     "output_type": "stream",
     "text": [
      "True\n",
      "True\n",
      "False\n",
      "False\n"
     ]
    }
   ],
   "source": [
    "print(check_balance_paranthesis(\"()[]{}\"))\n",
    "print(check_balance_paranthesis(\"[()]{()}\"))\n",
    "print(check_balance_paranthesis(\"[(])\"))\n",
    "print(check_balance_paranthesis(\"[[[[\"))"
   ]
  },
  {
   "cell_type": "markdown",
   "metadata": {},
   "source": [
    "### Infix,Prefix and Postfix Notations\n",
    "\n",
    "- infix : x + y\n",
    "- prefix : +xy\n",
    "- postfix : xy+\n",
    "\n",
    "### Advantages of Prefix/Postfix Notation\n",
    "\n",
    "- Do not require parenthesis,precendence rules and associative rules\n",
    "- Can be evaluated by writing a program that traverse exp exactly once"
   ]
  },
  {
   "cell_type": "code",
   "execution_count": null,
   "metadata": {},
   "outputs": [],
   "source": []
  }
 ],
 "metadata": {
  "kernelspec": {
   "display_name": "Python 3",
   "language": "python",
   "name": "python3"
  },
  "language_info": {
   "codemirror_mode": {
    "name": "ipython",
    "version": 3
   },
   "file_extension": ".py",
   "mimetype": "text/x-python",
   "name": "python",
   "nbconvert_exporter": "python",
   "pygments_lexer": "ipython3",
   "version": "3.8.5"
  }
 },
 "nbformat": 4,
 "nbformat_minor": 4
}
