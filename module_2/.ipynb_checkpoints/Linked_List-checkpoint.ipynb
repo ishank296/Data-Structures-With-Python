{
 "cells": [
  {
   "cell_type": "markdown",
   "metadata": {},
   "source": [
    "## Simple Linked List implementation"
   ]
  },
  {
   "cell_type": "code",
   "execution_count": 2,
   "metadata": {},
   "outputs": [
    {
     "name": "stdout",
     "output_type": "stream",
     "text": [
      "6\n",
      "3\n",
      "14\n"
     ]
    }
   ],
   "source": [
    "class Node:\n",
    "    def __init__(self,k):\n",
    "        self.key=k\n",
    "        self.next = None\n",
    "\n",
    "tmp1 = Node(6)\n",
    "tmp2 = Node(3)\n",
    "tmp3 = Node(14)\n",
    "tmp1.next = tmp2\n",
    "tmp2.next = tmp3\n",
    "head = tmp1\n",
    "while(head is not None):\n",
    "    print(head.key)\n",
    "    head = head.next"
   ]
  },
  {
   "cell_type": "markdown",
   "metadata": {},
   "source": [
    "### Applications of Linked List"
   ]
  },
  {
   "cell_type": "markdown",
   "metadata": {},
   "source": [
    "- Worst case insertion at end and beginning are O(1)\n",
    "- Worst case deletion from beginning is O(1)\n",
    "- Insertion and deletion in middle is O(1) if we reference to previous node\n",
    "- Round Robing Implementation\n",
    "- Merging of two sorted linked list is faster than arrays\n",
    "- Implementation of simple memory manager where we need link free blocks\n",
    "- Easier implementationof Queue and Dequeue data structures"
   ]
  },
  {
   "cell_type": "markdown",
   "metadata": {},
   "source": [
    "### Traversing a linked list "
   ]
  },
  {
   "cell_type": "markdown",
   "metadata": {},
   "source": [
    "def traverselist(head):\n",
    "    if head is None: return\n",
    "    print(head.key,end=\" \")\n",
    "    traverselist(head.next)\n",
    "\n",
    "head = Node(10)\n",
    "head.next = Node(20)\n",
    "head.next.next = Node(14)\n",
    "head.next.next.next = Node(30)\n",
    "traverselist(head)"
   ]
  },
  {
   "cell_type": "markdown",
   "metadata": {},
   "source": [
    "## Searching a linked list"
   ]
  },
  {
   "cell_type": "code",
   "execution_count": 8,
   "metadata": {},
   "outputs": [
    {
     "data": {
      "text/plain": [
       "4"
      ]
     },
     "execution_count": 8,
     "metadata": {},
     "output_type": "execute_result"
    }
   ],
   "source": [
    "def search_list(head,k):\n",
    "    if head.key == k: return 1\n",
    "    if head.next is None: return - 1\n",
    "    if search_list(head.next,k) == -1 :\n",
    "        return -1\n",
    "    else: return 1 + search_list(head.next,k)\n",
    "\n",
    "head = Node(23)\n",
    "head.next=Node(34)\n",
    "head.next.next=Node(45)\n",
    "head.next.next.next = Node(67)\n",
    "\n",
    "search_list(head,88)\n",
    "search_list(head,67)"
   ]
  },
  {
   "cell_type": "markdown",
   "metadata": {},
   "source": [
    "### Insert Node at the beginning of Linked List"
   ]
  },
  {
   "cell_type": "code",
   "execution_count": 4,
   "metadata": {},
   "outputs": [
    {
     "name": "stdout",
     "output_type": "stream",
     "text": [
      "50 10 20 30 40 "
     ]
    }
   ],
   "source": [
    "def insert_head(l,k):\n",
    "    newNode = Node(k)\n",
    "    newNode.next=l\n",
    "    return newNode\n",
    "\n",
    "head = Node(10)\n",
    "head.next=Node(20)\n",
    "head.next.next=Node(30)\n",
    "head.next.next.next = Node(40)\n",
    "head=insert_head(head,50)\n",
    "\n",
    "while(head is not None):\n",
    "    print(head.key,end=\" \")\n",
    "    head=head.next\n"
   ]
  },
  {
   "cell_type": "markdown",
   "metadata": {},
   "source": [
    "### Insert Node at the end of Linked List"
   ]
  },
  {
   "cell_type": "code",
   "execution_count": 3,
   "metadata": {},
   "outputs": [
    {
     "name": "stdout",
     "output_type": "stream",
     "text": [
      "10 20 30 40 50 "
     ]
    }
   ],
   "source": [
    "def insert_end(l,k):\n",
    "    head=l\n",
    "    if head is None:\n",
    "        return Node(k)\n",
    "    while(head.next is not None):\n",
    "        head=head.next\n",
    "    head.next=Node(k)\n",
    "    return l\n",
    "\n",
    "head = Node(10)\n",
    "insert_end(head,20)\n",
    "insert_end(head,30)\n",
    "insert_end(head,40)\n",
    "insert_end(head,50)\n",
    "\n",
    "while(head is not None):\n",
    "    print(head.key,end=\" \")\n",
    "    head=head.next"
   ]
  },
  {
   "cell_type": "markdown",
   "metadata": {},
   "source": [
    "### Insert at given Position in given Linked List"
   ]
  },
  {
   "cell_type": "code",
   "execution_count": 9,
   "metadata": {},
   "outputs": [
    {
     "name": "stdout",
     "output_type": "stream",
     "text": [
      "10 20 30 35 40 45 50 "
     ]
    }
   ],
   "source": [
    "def insert(l,pos,k):\n",
    "    head=l\n",
    "    if pos == 1:\n",
    "        newNode=Node(k).next(head)\n",
    "        return newNode\n",
    "    for i in range(pos-2):\n",
    "        if head is None:\n",
    "            return l\n",
    "        head=head.next\n",
    "    temp = Node(k)\n",
    "    temp.next=head.next\n",
    "    head.next=temp\n",
    "    return l\n",
    "\n",
    "head = Node(10)\n",
    "insert_end(head,20)\n",
    "insert_end(head,30)\n",
    "insert_end(head,40)\n",
    "insert_end(head,50)\n",
    "insert(head,4,35)\n",
    "insert(head,6,45)\n",
    "\n",
    "while(head is not None):\n",
    "    print(head.key,end=\" \")\n",
    "    head=head.next"
   ]
  },
  {
   "cell_type": "markdown",
   "metadata": {},
   "source": [
    "### Delete first Node of Linked List"
   ]
  },
  {
   "cell_type": "code",
   "execution_count": 14,
   "metadata": {},
   "outputs": [
    {
     "name": "stdout",
     "output_type": "stream",
     "text": [
      "30 40 50 "
     ]
    }
   ],
   "source": [
    "def delete_first(head):\n",
    "    if head is None:\n",
    "        return head\n",
    "    return head.next\n",
    "\n",
    "\n",
    "head = Node(10)\n",
    "insert_end(head,20)\n",
    "insert_end(head,30)\n",
    "insert_end(head,40)\n",
    "insert_end(head,50)\n",
    "head=delete_first(head)\n",
    "head=delete_first(head)\n",
    "\n",
    "while(head is not None):\n",
    "    print(head.key,end=\" \")\n",
    "    head=head.next"
   ]
  },
  {
   "cell_type": "markdown",
   "metadata": {},
   "source": [
    "### Delete Last Node of the Linked List"
   ]
  },
  {
   "cell_type": "code",
   "execution_count": 13,
   "metadata": {},
   "outputs": [
    {
     "name": "stdout",
     "output_type": "stream",
     "text": [
      "10 20 30 "
     ]
    }
   ],
   "source": [
    "def delete_last(head):\n",
    "    if head is None or head.next is None:\n",
    "        return head\n",
    "    cur=head.next\n",
    "    prev=head\n",
    "    while(cur.next is not None):\n",
    "        prev=cur\n",
    "        cur=cur.next\n",
    "    prev.next=None\n",
    "    return head\n",
    "\n",
    "head = Node(10)\n",
    "insert_end(head,20)\n",
    "insert_end(head,30)\n",
    "insert_end(head,40)\n",
    "insert_end(head,50)\n",
    "head=delete_last(head)\n",
    "head=delete_last(head)\n",
    "\n",
    "while(head is not None):\n",
    "    print(head.key,end=\" \")\n",
    "    head=head.next"
   ]
  },
  {
   "cell_type": "markdown",
   "metadata": {},
   "source": [
    "### Sorted Insert in Linked List"
   ]
  },
  {
   "cell_type": "code",
   "execution_count": 18,
   "metadata": {},
   "outputs": [
    {
     "name": "stdout",
     "output_type": "stream",
     "text": [
      "10 20 30 35 40 45 50 60 "
     ]
    }
   ],
   "source": [
    "def sorted_insert(head,k):\n",
    "    if head is None:\n",
    "        return Node(k)\n",
    "    if head.key > k :\n",
    "        newNode = Node(k)\n",
    "        newNode.next = head\n",
    "        return head\n",
    "    else:\n",
    "        cur=head\n",
    "        while(cur.next !=None and cur.next.key < k):\n",
    "            cur=cur.next\n",
    "        newNode=Node(k)\n",
    "        newNode.next=cur.next\n",
    "        cur.next=newNode\n",
    "        return head\n",
    "\n",
    "\n",
    "        \n",
    "head = Node(10)\n",
    "insert_end(head,20)\n",
    "insert_end(head,30)\n",
    "insert_end(head,40)\n",
    "insert_end(head,50)\n",
    "sorted_insert(head,35)\n",
    "sorted_insert(head,45)\n",
    "sorted_insert(head,60)\n",
    "\n",
    "while(head is not None):\n",
    "    print(head.key,end=\" \")\n",
    "    head=head.next        "
   ]
  },
  {
   "cell_type": "markdown",
   "metadata": {},
   "source": [
    "### Reverse Linked List"
   ]
  },
  {
   "cell_type": "code",
   "execution_count": 30,
   "metadata": {},
   "outputs": [
    {
     "name": "stdout",
     "output_type": "stream",
     "text": [
      "50 40 30 20 10 "
     ]
    }
   ],
   "source": [
    "def reverse(head):\n",
    "    if head is None:return head\n",
    "    cur=head.next\n",
    "    prev=head\n",
    "    head.next=None\n",
    "    while(cur is not None):\n",
    "        tmp=cur\n",
    "        cur=cur.next\n",
    "        tmp.next=prev\n",
    "        prev=tmp\n",
    "    return prev\n",
    "\n",
    "head = Node(10)\n",
    "insert_end(head,20)\n",
    "insert_end(head,30)\n",
    "insert_end(head,40)\n",
    "insert_end(head,50)\n",
    "head=reverse(head)\n",
    "\n",
    "while(head is not None):\n",
    "    print(head.key,end=\" \")\n",
    "    head=head.next   "
   ]
  },
  {
   "cell_type": "code",
   "execution_count": 32,
   "metadata": {},
   "outputs": [
    {
     "name": "stdout",
     "output_type": "stream",
     "text": [
      "50 40 30 20 10 "
     ]
    }
   ],
   "source": [
    "def reverse(head):\n",
    "    if head is None:return head\n",
    "    stk=list()\n",
    "    cur=head\n",
    "    while cur is not None:\n",
    "        stk.append(cur.key)\n",
    "        cur=cur.next\n",
    "    cur=head\n",
    "    while cur is not None:\n",
    "        cur.key=stk.pop()\n",
    "        cur=cur.next\n",
    "    return head\n",
    "\n",
    "\n",
    "head = Node(10)\n",
    "insert_end(head,20)\n",
    "insert_end(head,30)\n",
    "insert_end(head,40)\n",
    "insert_end(head,50)\n",
    "head=reverse(head)\n",
    "\n",
    "while(head is not None):\n",
    "    print(head.key,end=\" \")\n",
    "    head=head.next   "
   ]
  },
  {
   "cell_type": "markdown",
   "metadata": {},
   "source": [
    "### Find Intersection to two Linked Lists"
   ]
  },
  {
   "cell_type": "code",
   "execution_count": 12,
   "metadata": {},
   "outputs": [],
   "source": [
    "def find_intersection(h1,h2):\n",
    "    if h1 == None or h2 == None:\n",
    "        return None\n",
    "    len1,len2=0,0\n",
    "    cur1,cur2=h1,h2\n",
    "    while(cur1!=None or cur2!=None):\n",
    "        if cur1!=None:\n",
    "            cur1=cur1.next\n",
    "            len1+=1\n",
    "        if cur2!=None:\n",
    "            cur2=cur2.next\n",
    "            len2+=1\n",
    "    diff = abs(len1-len2)\n",
    "    if len1>=len2:\n",
    "        cur1=h1\n",
    "    else:\n",
    "        cur1=h2\n",
    "    for i in range(diff):\n",
    "        cur1=cur1.next\n",
    "    while(cur1!=None and cur2!=None):\n",
    "        if (cur1==cur2):\n",
    "            return cur1\n",
    "        else:cur1,cur2=cur1.next,cur2.next\n",
    "    return None\n",
    "    \n",
    "    \n",
    "\n",
    "            \n",
    "head1 = Node(10)\n",
    "insert_end(head1,20)\n",
    "insert_end(head1,30)\n",
    "insert_end(head1,40)\n",
    "insert_end(head1,50)\n",
    "\n",
    "head2 = Node(1)\n",
    "insert_end(head2,2)\n",
    "insert_end(head2,3)\n",
    "insert_end(head2,4)\n",
    "insert_end(head2,6)\n",
    "insert_end(head2,8)\n",
    "\n",
    "find_intersection(head1,head2)\n"
   ]
  }
 ],
 "metadata": {
  "kernelspec": {
   "display_name": "Python 3",
   "language": "python",
   "name": "python3"
  },
  "language_info": {
   "codemirror_mode": {
    "name": "ipython",
    "version": 3
   },
   "file_extension": ".py",
   "mimetype": "text/x-python",
   "name": "python",
   "nbconvert_exporter": "python",
   "pygments_lexer": "ipython3",
   "version": "3.8.5"
  }
 },
 "nbformat": 4,
 "nbformat_minor": 4
}
