{
 "cells": [
  {
   "cell_type": "code",
   "execution_count": 2,
   "metadata": {},
   "outputs": [],
   "source": [
    "class Node:\n",
    "    def __init__(self,data):\n",
    "        self.data=data\n",
    "        self.next=None\n",
    "\n",
    "head = Node(10)\n",
    "head.next = Node(20)\n",
    "head.next.next = Node(30)\n",
    "head.next.next.next=head"
   ]
  },
  {
   "cell_type": "markdown",
   "metadata": {},
   "source": [
    "## Advantages/Disadvantages of Circular Linked List"
   ]
  },
  {
   "cell_type": "markdown",
   "metadata": {},
   "source": [
    "### Advantages\n",
    "\n",
    "\n",
    "- can traverse whole list from any node\n",
    "- Implementation of algorithms like Round Robin\n",
    "- We can insert at beginning or at end by just maintaining one reference\n",
    "\n",
    "### Disadvantages\n",
    "- Implementation of Operations becomes complicated"
   ]
  },
  {
   "cell_type": "markdown",
   "metadata": {},
   "source": [
    "### Circular linked list traversal"
   ]
  },
  {
   "cell_type": "code",
   "execution_count": 4,
   "metadata": {},
   "outputs": [
    {
     "name": "stdout",
     "output_type": "stream",
     "text": [
      "40 30 20 10 "
     ]
    }
   ],
   "source": [
    "def print_circular(head):\n",
    "    if head is None: return\n",
    "    print(head.data,end=\" \")\n",
    "    cur=head.next\n",
    "    while(cur!=head):\n",
    "        print(cur.data,end=\" \")\n",
    "        cur=cur.next\n",
    "print_circular(head)"
   ]
  },
  {
   "cell_type": "markdown",
   "metadata": {},
   "source": [
    "### Insert at beginning of Circular Linked List"
   ]
  },
  {
   "cell_type": "code",
   "execution_count": 5,
   "metadata": {},
   "outputs": [
    {
     "name": "stdout",
     "output_type": "stream",
     "text": [
      "40 30 20 10 "
     ]
    }
   ],
   "source": [
    "def insert_first(head,k):\n",
    "    newNode = Node(k)\n",
    "    if head is None:\n",
    "        newNode.next=newNode\n",
    "        return newNode\n",
    "    cur=head\n",
    "    while(cur.next!=head):\n",
    "        cur=cur.next\n",
    "    cur.next=newNode\n",
    "    cur.next.next=head\n",
    "    return newNode\n",
    "\n",
    "head = insert_first(None,10)\n",
    "head = insert_first(head,20)\n",
    "head = insert_first(head,30)\n",
    "head = insert_first(head,40)\n",
    "print_circular(head)"
   ]
  },
  {
   "cell_type": "code",
   "execution_count": 8,
   "metadata": {},
   "outputs": [
    {
     "name": "stdout",
     "output_type": "stream",
     "text": [
      "40 30 20 10 "
     ]
    }
   ],
   "source": [
    "# Constant Time Solution - insert new Node after existing head and swap key values between two\n",
    "def insert(head,k):\n",
    "    newNode=Node(k)\n",
    "    if head is None:\n",
    "        newNode.next=newNode\n",
    "        return newNode\n",
    "    newNode.next=head.next\n",
    "    head.next=newNode\n",
    "    head.data,newNode.data=newNode.data,head.data\n",
    "    return head\n",
    "\n",
    "head = insert_first(None,10)\n",
    "head = insert_first(head,20)\n",
    "head = insert_first(head,30)\n",
    "head = insert_first(head,40)\n",
    "print_circular(head)"
   ]
  },
  {
   "cell_type": "markdown",
   "metadata": {},
   "source": [
    "### Insert at end of circular linked list"
   ]
  },
  {
   "cell_type": "code",
   "execution_count": 7,
   "metadata": {},
   "outputs": [
    {
     "name": "stdout",
     "output_type": "stream",
     "text": [
      "10 20 30 40 50 "
     ]
    }
   ],
   "source": [
    "def insert_end(head,k):\n",
    "    tmp=Node(k)\n",
    "    if head is None:\n",
    "        tmp.next=tmp\n",
    "        return tmp\n",
    "    cur=head\n",
    "    while(cur.next!=head):\n",
    "        cur=cur.next\n",
    "    cur.next=tmp\n",
    "    tmp.next=head\n",
    "    return head\n",
    "\n",
    "head = insert_end(None,10)\n",
    "head = insert_end(head,20)\n",
    "head = insert_end(head,30)\n",
    "head = insert_end(head,40)\n",
    "head = insert_end(head,50)\n",
    "print_circular(head)"
   ]
  },
  {
   "cell_type": "code",
   "execution_count": 9,
   "metadata": {},
   "outputs": [
    {
     "name": "stdout",
     "output_type": "stream",
     "text": [
      "10 20 30 40 50 "
     ]
    }
   ],
   "source": [
    "def insert_end(head,k):\n",
    "    tmp=Node(k)\n",
    "    if head is None:\n",
    "        tmp.next=tmp\n",
    "        return tmp\n",
    "    tmp.next=head.next\n",
    "    head.next=tmp\n",
    "    head.data,tmp.data=tmp.data,head.data\n",
    "    return tmp\n",
    "head = insert_end(None,10)\n",
    "head = insert_end(head,20)\n",
    "head = insert_end(head,30)\n",
    "head = insert_end(head,40)\n",
    "head = insert_end(head,50)\n",
    "print_circular(head)"
   ]
  },
  {
   "cell_type": "markdown",
   "metadata": {},
   "source": [
    "### Delete head of circular linked list"
   ]
  },
  {
   "cell_type": "code",
   "execution_count": 13,
   "metadata": {},
   "outputs": [
    {
     "name": "stdout",
     "output_type": "stream",
     "text": [
      "10 20 30 40 50 \n",
      "30 40 50 "
     ]
    }
   ],
   "source": [
    "def del_head(head):\n",
    "    if head is None or head.next==head:\n",
    "        return None\n",
    "    head.data=head.next.data\n",
    "    head.next=head.next.next\n",
    "    return head\n",
    "\n",
    "head = insert_end(None,10)\n",
    "head = insert_end(head,20)\n",
    "head = insert_end(head,30)\n",
    "head = insert_end(head,40)\n",
    "head = insert_end(head,50)\n",
    "print_circular(head)\n",
    "head = del_head(head)\n",
    "head = del_head(head)\n",
    "print()\n",
    "print_circular(head)"
   ]
  },
  {
   "cell_type": "markdown",
   "metadata": {},
   "source": [
    "### Delete Kth Node of Linked List"
   ]
  },
  {
   "cell_type": "code",
   "execution_count": 17,
   "metadata": {},
   "outputs": [
    {
     "name": "stdout",
     "output_type": "stream",
     "text": [
      "10 20 40 50 \n",
      "10 20 50 "
     ]
    }
   ],
   "source": [
    "def del_node(head,k):\n",
    "    if head is None:\n",
    "        return head\n",
    "    if (k == 1):\n",
    "        del_head(head)\n",
    "    cur=head\n",
    "    for i in range(1,k-1):\n",
    "        cur=cur.next\n",
    "        if (cur==head):return head\n",
    "    cur.next=cur.next.next\n",
    "    return head\n",
    "\n",
    "head = insert_end(None,10)\n",
    "head = insert_end(head,20)\n",
    "head = insert_end(head,30)\n",
    "head = insert_end(head,40)\n",
    "head = insert_end(head,50)    \n",
    "head = del_node(head,3)\n",
    "print_circular(head)\n",
    "print()\n",
    "head = del_node(head,3)\n",
    "print_circular(head)"
   ]
  }
 ],
 "metadata": {
  "kernelspec": {
   "display_name": "Python 3",
   "language": "python",
   "name": "python3"
  },
  "language_info": {
   "codemirror_mode": {
    "name": "ipython",
    "version": 3
   },
   "file_extension": ".py",
   "mimetype": "text/x-python",
   "name": "python",
   "nbconvert_exporter": "python",
   "pygments_lexer": "ipython3",
   "version": "3.8.5"
  }
 },
 "nbformat": 4,
 "nbformat_minor": 4
}
