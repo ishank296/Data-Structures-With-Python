{
 "cells": [
  {
   "cell_type": "markdown",
   "metadata": {},
   "source": [
    "## Stack in Python\n",
    "\n",
    "- Using List\n",
    "- Using Collections.deque\n",
    "- Using queue.LIFOQueue\n",
    "- Using our own Implementation"
   ]
  },
  {
   "cell_type": "markdown",
   "metadata": {},
   "source": [
    "## Stack Implementation using List"
   ]
  },
  {
   "cell_type": "code",
   "execution_count": 2,
   "metadata": {},
   "outputs": [
    {
     "name": "stdout",
     "output_type": "stream",
     "text": [
      "[10, 30, 70, 40]\n",
      "[10, 30, 70]\n",
      "70\n",
      "3\n"
     ]
    }
   ],
   "source": [
    "stack=list()\n",
    "stack.append(10)\n",
    "stack.append(30)\n",
    "stack.append(70)\n",
    "stack.append(40)\n",
    "print(stack)\n",
    "stack.pop()\n",
    "print(stack)\n",
    "top=stack[-1]\n",
    "print(top)\n",
    "size=len(stack)\n",
    "print(size)"
   ]
  },
  {
   "cell_type": "markdown",
   "metadata": {},
   "source": [
    "## Stack Implementation Using Deque"
   ]
  },
  {
   "cell_type": "code",
   "execution_count": 3,
   "metadata": {},
   "outputs": [],
   "source": [
    "from collections import deque"
   ]
  },
  {
   "cell_type": "code",
   "execution_count": 5,
   "metadata": {},
   "outputs": [
    {
     "name": "stdout",
     "output_type": "stream",
     "text": [
      "deque([10, 30, 70, 40])\n",
      "deque([10, 30, 70])\n",
      "70\n",
      "3\n"
     ]
    }
   ],
   "source": [
    "stack=deque()\n",
    "stack.append(10)\n",
    "stack.append(30)\n",
    "stack.append(70)\n",
    "stack.append(40)\n",
    "print(stack)\n",
    "stack.pop()\n",
    "print(stack)\n",
    "top=stack[-1]\n",
    "print(top)\n",
    "size=len(stack)\n",
    "print(size)"
   ]
  },
  {
   "cell_type": "markdown",
   "metadata": {},
   "source": [
    "## Custom Implementation of Stack"
   ]
  },
  {
   "cell_type": "code",
   "execution_count": 9,
   "metadata": {},
   "outputs": [],
   "source": [
    "class Node:\n",
    "    def __init__(self,data):\n",
    "        self.data=data\n",
    "        self.next=None\n",
    "    \n",
    "    def __str__(self):\n",
    "        return \"Node({})\".format(self.data)\n",
    "        \n",
    "\n",
    "class Stack:\n",
    "    def __init__(self):\n",
    "        self.head=None\n",
    "        self.size=0\n",
    "    \n",
    "    def push(self,x):\n",
    "        tmp = Node(x)\n",
    "        tmp.next=self.head\n",
    "        self.head=tmp\n",
    "        self.size+=1\n",
    "    \n",
    "    def pop(self):\n",
    "        if self.head == None:\n",
    "            raise Exception(\"Stack is Empty!\")\n",
    "        self.head=self.head.next\n",
    "        self.size=self.size-1\n",
    "        return head\n",
    "    \n",
    "    def peek(self):\n",
    "        if head==None:\n",
    "            raise Exception(\"Stack is Empty!\")\n",
    "        return head.data\n",
    "    \n",
    "    def size(self):\n",
    "        return self.size"
   ]
  },
  {
   "cell_type": "markdown",
   "metadata": {},
   "source": [
    "### check for balanced expression of parenthesis"
   ]
  },
  {
   "cell_type": "code",
   "execution_count": 58,
   "metadata": {},
   "outputs": [],
   "source": [
    "def check_balance_paranthesis(s):\n",
    "    open_braces= \"({[\"\n",
    "    close_braces=\"}])\"\n",
    "    stk=list()\n",
    "    for i in s:\n",
    "        if i in close_braces and len(stk) == 0:\n",
    "            return False\n",
    "        if i in close_braces:\n",
    "            top=stk[-1]\n",
    "            if (i =='}' and top=='{') or \\\n",
    "               (i ==']' and top=='[') or \\\n",
    "               (i ==')' and top=='('):\n",
    "                stk.pop()\n",
    "            else:\n",
    "                return False\n",
    "        if i in open_braces:\n",
    "            stk.append(i)\n",
    "    if len(stk)!=0:\n",
    "        return False\n",
    "    return True\n",
    "        "
   ]
  },
  {
   "cell_type": "code",
   "execution_count": 60,
   "metadata": {},
   "outputs": [
    {
     "name": "stdout",
     "output_type": "stream",
     "text": [
      "True\n",
      "True\n",
      "False\n",
      "False\n"
     ]
    }
   ],
   "source": [
    "print(check_balance_paranthesis(\"()[]{}\"))\n",
    "print(check_balance_paranthesis(\"[()]{()}\"))\n",
    "print(check_balance_paranthesis(\"[(])\"))\n",
    "print(check_balance_paranthesis(\"[[[[\"))"
   ]
  },
  {
   "cell_type": "markdown",
   "metadata": {},
   "source": [
    "### Infix,Prefix and Postfix Notations\n",
    "\n",
    "- infix : x + y\n",
    "- prefix : +xy\n",
    "- postfix : xy+\n",
    "\n",
    "### Advantages of Prefix/Postfix Notation\n",
    "\n",
    "- Do not require parenthesis,precendence rules and associative rules\n",
    "- Can be evaluated by writing a program that traverse exp exactly once\n",
    "\n",
    "### Operator Precedence and Associativity\n",
    "\n",
    " | Operators | Associativity|\n",
    " |-----------|--------------|\n",
    " |    ^      | Right to Left|\n",
    " |    *,/    | Left to Right|\n",
    " |    +,-    | Left to Right|\n",
    " \n",
    " \n",
    " ### Precedence Associativity expression evaluation\n",
    " \n",
    " - 10 + 20 * 2 => (10 + (20 * 2))  Precedence   \n",
    " - 10 + 2 - 2 =>  ((10 + 2) - 3)   Associativity - Left to Right\n",
    " - 2^1^2 => 2^(1^2)                Associativity - Right to Left\n"
   ]
  },
  {
   "cell_type": "markdown",
   "metadata": {},
   "source": [
    "|Infix | Prefix |Postfix\n",
    "|------|--------|--------\n",
    " x + y * z | +x*yz | xyz*+\n",
    " (x + y) * z | *+xyz | xy+z* \n"
   ]
  },
  {
   "cell_type": "markdown",
   "metadata": {},
   "source": [
    "### Infix to Postfix Conversion\n",
    "- create a stack and a string variable tmp\n",
    "- traverse exp from left to right\n",
    "- if cur element is operand,append to tmp variable\n",
    "- if cur element is left parenthesis,push to stack\n",
    "- if cur element is right prenthesis,pop from stak until left parenthesis is reached and append to tmp variable\n",
    "- if cur element is operator :\n",
    "    - if stack is empty,push cur element to stack\n",
    "    - if cur element has higher precendence then stack.top(), then push to stack\n",
    "    - if cur element has lower precedence then stack.top(), then pop until lower precdence operator is found in stack. append popped elements to tmp\n",
    "    - if cur element has same precedence as stack.top() then associativity is used i.e whichever operator occured first (left to right) has higher precedence \n",
    "- pop out everything from stack\n",
    "    \n",
    "   \n"
   ]
  },
  {
   "cell_type": "code",
   "execution_count": 10,
   "metadata": {},
   "outputs": [
    {
     "ename": "IndexError",
     "evalue": "list index out of range",
     "output_type": "error",
     "traceback": [
      "\u001b[0;31m---------------------------------------------------------------------------\u001b[0m",
      "\u001b[0;31mIndexError\u001b[0m                                Traceback (most recent call last)",
      "\u001b[0;32m<ipython-input-10-2847f1df1497>\u001b[0m in \u001b[0;36m<module>\u001b[0;34m\u001b[0m\n\u001b[1;32m     34\u001b[0m \u001b[0;34m\u001b[0m\u001b[0m\n\u001b[1;32m     35\u001b[0m \u001b[0mexpr\u001b[0m\u001b[0;34m=\u001b[0m\u001b[0;34m\"a+b-c\"\u001b[0m\u001b[0;34m\u001b[0m\u001b[0;34m\u001b[0m\u001b[0m\n\u001b[0;32m---> 36\u001b[0;31m \u001b[0mprint\u001b[0m\u001b[0;34m(\u001b[0m\u001b[0minfix_to_postfix\u001b[0m\u001b[0;34m(\u001b[0m\u001b[0mexpr\u001b[0m\u001b[0;34m)\u001b[0m\u001b[0;34m)\u001b[0m\u001b[0;34m\u001b[0m\u001b[0;34m\u001b[0m\u001b[0m\n\u001b[0m\u001b[1;32m     37\u001b[0m \u001b[0;34m\u001b[0m\u001b[0m\n",
      "\u001b[0;32m<ipython-input-10-2847f1df1497>\u001b[0m in \u001b[0;36minfix_to_postfix\u001b[0;34m(exp)\u001b[0m\n\u001b[1;32m     18\u001b[0m                 \u001b[0;32mif\u001b[0m \u001b[0mx\u001b[0m \u001b[0;34m==\u001b[0m \u001b[0;34m'('\u001b[0m \u001b[0;34m:\u001b[0m \u001b[0;32mbreak\u001b[0m\u001b[0;34m\u001b[0m\u001b[0;34m\u001b[0m\u001b[0m\n\u001b[1;32m     19\u001b[0m                 \u001b[0mresult\u001b[0m \u001b[0;34m=\u001b[0m \u001b[0mresult\u001b[0m\u001b[0;34m+\u001b[0m\u001b[0mi\u001b[0m\u001b[0;34m\u001b[0m\u001b[0;34m\u001b[0m\u001b[0m\n\u001b[0;32m---> 20\u001b[0;31m         \u001b[0;32melif\u001b[0m \u001b[0moperator_precedence\u001b[0m\u001b[0;34m[\u001b[0m\u001b[0mi\u001b[0m\u001b[0;34m]\u001b[0m \u001b[0;34m>=\u001b[0m \u001b[0moperator_precedence\u001b[0m\u001b[0;34m[\u001b[0m\u001b[0mstack\u001b[0m\u001b[0;34m[\u001b[0m\u001b[0;34m-\u001b[0m\u001b[0;36m1\u001b[0m\u001b[0;34m]\u001b[0m\u001b[0;34m]\u001b[0m\u001b[0;34m:\u001b[0m\u001b[0;34m\u001b[0m\u001b[0;34m\u001b[0m\u001b[0m\n\u001b[0m\u001b[1;32m     21\u001b[0m             \u001b[0mstack\u001b[0m\u001b[0;34m.\u001b[0m\u001b[0mappend\u001b[0m\u001b[0;34m(\u001b[0m\u001b[0mi\u001b[0m\u001b[0;34m)\u001b[0m\u001b[0;34m\u001b[0m\u001b[0;34m\u001b[0m\u001b[0m\n\u001b[1;32m     22\u001b[0m         \u001b[0;32melif\u001b[0m \u001b[0moperator_precedence\u001b[0m\u001b[0;34m[\u001b[0m\u001b[0mi\u001b[0m\u001b[0;34m]\u001b[0m \u001b[0;34m<\u001b[0m \u001b[0moperator_precedence\u001b[0m\u001b[0;34m[\u001b[0m\u001b[0mstack\u001b[0m\u001b[0;34m[\u001b[0m\u001b[0;34m-\u001b[0m\u001b[0;36m1\u001b[0m\u001b[0;34m]\u001b[0m\u001b[0;34m]\u001b[0m\u001b[0;34m:\u001b[0m\u001b[0;34m\u001b[0m\u001b[0;34m\u001b[0m\u001b[0m\n",
      "\u001b[0;31mIndexError\u001b[0m: list index out of range"
     ]
    }
   ],
   "source": [
    "import re\n",
    "\n",
    "def infix_to_postfix(exp):\n",
    "    result=\"\"\n",
    "    stack=list()\n",
    "    operator_precedence={ '^':5,\n",
    "                         '/':4,\n",
    "                         '*':3,\n",
    "                         '+':2,\n",
    "                         '-':1,\n",
    "                          '(':0 }\n",
    "    for i in exp:\n",
    "        if i =='(' : stack.append(i)\n",
    "        if i.isalpha():result=result+i\n",
    "        elif i == ')':\n",
    "            while(True) :\n",
    "                x = stack.pop()\n",
    "                if x == '(' : break\n",
    "                result = result+i\n",
    "        elif operator_precedence[i] >= operator_precedence[stack[-1]]:\n",
    "            stack.append(i)\n",
    "        elif operator_precedence[i] < operator_precedence[stack[-1]]:\n",
    "            while(True):\n",
    "                if len(stack) ==0:\n",
    "                    stack.push(i)\n",
    "                elif operator_precedence[i] > operator_precedence[stack[-1]]:\n",
    "                    stack.append(i)\n",
    "                    break\n",
    "                y = stack.pop()\n",
    "                result = result + y\n",
    "    while(len(stack)>0):\n",
    "        result = result + stack.pop()\n",
    "    return result\n",
    "\n",
    "expr=\"a+b-c\"\n",
    "print(infix_to_postfix(expr))\n",
    "            "
   ]
  }
 ],
 "metadata": {
  "kernelspec": {
   "display_name": "Python 3",
   "language": "python",
   "name": "python3"
  },
  "language_info": {
   "codemirror_mode": {
    "name": "ipython",
    "version": 3
   },
   "file_extension": ".py",
   "mimetype": "text/x-python",
   "name": "python",
   "nbconvert_exporter": "python",
   "pygments_lexer": "ipython3",
   "version": "3.8.5"
  }
 },
 "nbformat": 4,
 "nbformat_minor": 4
}
