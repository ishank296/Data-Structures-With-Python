{
 "cells": [
  {
   "cell_type": "code",
   "execution_count": 2,
   "metadata": {},
   "outputs": [],
   "source": [
    "class Node:\n",
    "    def __init__(self,data):\n",
    "        self.data=data\n",
    "        self.next=None\n",
    "        self.prev=None"
   ]
  },
  {
   "cell_type": "code",
   "execution_count": 3,
   "metadata": {},
   "outputs": [],
   "source": [
    "head = Node(10)\n",
    "tmp1 = Node(20)\n",
    "tmp2 = Node(30)\n",
    "tmp3 = Node(40)\n",
    "\n",
    "head.next=tmp1\n",
    "tmp1.prev=head\n",
    "tmp1.next=tmp2\n",
    "tmp2.prev=tmp1\n",
    "tmp2.next=tmp3\n",
    "tmp3.prev=tmp2\n",
    "\n"
   ]
  },
  {
   "cell_type": "markdown",
   "metadata": {},
   "source": [
    "### Advantages of Doubly linked list\n",
    "- traverse linked list in both direction\n",
    "- Delete a given node in O(1) time\n",
    "- Insert/Delete before a given node \n",
    "- Insert/Delete from both ends by maintaining tail\n",
    "\n",
    "### Disadvantages \n",
    "- requires more space for prev pointer\n",
    "- code becomes more complex"
   ]
  },
  {
   "cell_type": "markdown",
   "metadata": {},
   "source": [
    "### Printing Linked List"
   ]
  },
  {
   "cell_type": "code",
   "execution_count": 5,
   "metadata": {},
   "outputs": [
    {
     "name": "stdout",
     "output_type": "stream",
     "text": [
      "4 5 10 11 13 "
     ]
    }
   ],
   "source": [
    "def show_list(head):\n",
    "    while (head!=None):\n",
    "        print(head.data,end=\" \")\n",
    "        head=head.next\n",
    "show_list(head)"
   ]
  },
  {
   "cell_type": "markdown",
   "metadata": {},
   "source": [
    "### Insert at beginning of Doubly Linked List"
   ]
  },
  {
   "cell_type": "code",
   "execution_count": 10,
   "metadata": {},
   "outputs": [
    {
     "name": "stdout",
     "output_type": "stream",
     "text": [
      "13 11 10 5 4 "
     ]
    }
   ],
   "source": [
    "def InsertAtBegin(head,k):\n",
    "    tmp = Node(k)\n",
    "    if head==None:\n",
    "        return tmp\n",
    "    tmp.next=head\n",
    "    head.prev=tmp\n",
    "    return tmp\n",
    "\n",
    "head=None\n",
    "head=InsertAtBegin(head,4)\n",
    "head=InsertAtBegin(head,5)\n",
    "head=InsertAtBegin(head,10)\n",
    "head=InsertAtBegin(head,11)\n",
    "head=InsertAtBegin(head,13)\n",
    "\n",
    "show_list(head)"
   ]
  },
  {
   "cell_type": "markdown",
   "metadata": {},
   "source": [
    "### Insert at end of Doubly Linked List"
   ]
  },
  {
   "cell_type": "code",
   "execution_count": 6,
   "metadata": {
    "scrolled": true
   },
   "outputs": [
    {
     "name": "stdout",
     "output_type": "stream",
     "text": [
      "4 5 10 11 13 "
     ]
    }
   ],
   "source": [
    "def InsertAtEnd(head,k):\n",
    "    tmp = Node(k)\n",
    "    if head == None:\n",
    "        return tmp\n",
    "    else:\n",
    "        cur = head\n",
    "        while(cur.next!=None):\n",
    "            cur = cur.next\n",
    "        cur.next=tmp\n",
    "        tmp.prev=cur\n",
    "        return head\n",
    "\n",
    "head=None\n",
    "head=InsertAtEnd(head,4)\n",
    "head=InsertAtEnd(head,5)\n",
    "head=InsertAtEnd(head,10)\n",
    "head=InsertAtEnd(head,11)\n",
    "head=InsertAtEnd(head,13)\n",
    "\n",
    "show_list(head)"
   ]
  },
  {
   "cell_type": "markdown",
   "metadata": {},
   "source": [
    "### Delete head from Doubly Linked List"
   ]
  },
  {
   "cell_type": "code",
   "execution_count": 7,
   "metadata": {},
   "outputs": [
    {
     "name": "stdout",
     "output_type": "stream",
     "text": [
      "5 10 11 13 "
     ]
    }
   ],
   "source": [
    "def deletehead(head):\n",
    "    if head == None or head.next == None:\n",
    "        return None\n",
    "    else:\n",
    "        head = head.next\n",
    "        head.prev=None\n",
    "        return head\n",
    "\n",
    "head=None\n",
    "head=InsertAtEnd(head,4)\n",
    "head=InsertAtEnd(head,5)\n",
    "head=InsertAtEnd(head,10)\n",
    "head=InsertAtEnd(head,11)\n",
    "head=InsertAtEnd(head,13)\n",
    "head=deletehead(head)\n",
    "\n",
    "show_list(head)"
   ]
  },
  {
   "cell_type": "markdown",
   "metadata": {},
   "source": [
    "### Delete Last Node of Doubly Linked List"
   ]
  },
  {
   "cell_type": "code",
   "execution_count": 11,
   "metadata": {},
   "outputs": [
    {
     "name": "stdout",
     "output_type": "stream",
     "text": [
      "4 5 10 11 "
     ]
    }
   ],
   "source": [
    "def deletetail(head):\n",
    "    if head==None or head.next==None:\n",
    "        return None\n",
    "    cur=head\n",
    "    while(cur.next!=None):\n",
    "        cur=cur.next\n",
    "    cur.prev.next=None\n",
    "    cur.prev=None\n",
    "    return head\n",
    "\n",
    "head=None\n",
    "head=InsertAtEnd(head,4)\n",
    "head=InsertAtEnd(head,5)\n",
    "head=InsertAtEnd(head,10)\n",
    "head=InsertAtEnd(head,11)\n",
    "head=InsertAtEnd(head,13)\n",
    "head=deletetail(head)\n",
    "show_list(head)"
   ]
  },
  {
   "cell_type": "markdown",
   "metadata": {},
   "source": [
    "### Reverse Doubly Linked List"
   ]
  },
  {
   "cell_type": "code",
   "execution_count": 18,
   "metadata": {},
   "outputs": [
    {
     "name": "stdout",
     "output_type": "stream",
     "text": [
      "4 5 10 11 13 \n",
      "13 11 10 5 4 "
     ]
    }
   ],
   "source": [
    "def reverse_list(head):\n",
    "    if head==None or head.next==None:\n",
    "        return head\n",
    "    cur=head\n",
    "    p=None\n",
    "    while(cur!=None):\n",
    "        p=cur\n",
    "        nxt=cur.next\n",
    "        prv=cur.prev\n",
    "        cur.next=prv\n",
    "        cur.prev=nxt\n",
    "        cur=nxt\n",
    "    return p\n",
    "\n",
    "head=None\n",
    "head=InsertAtEnd(head,4)\n",
    "head=InsertAtEnd(head,5)\n",
    "head=InsertAtEnd(head,10)\n",
    "head=InsertAtEnd(head,11)\n",
    "head=InsertAtEnd(head,13)\n",
    "show_list(head)  \n",
    "head=reverse_list(head)\n",
    "print()\n",
    "show_list(head) "
   ]
  }
 ],
 "metadata": {
  "kernelspec": {
   "display_name": "Python 3",
   "language": "python",
   "name": "python3"
  },
  "language_info": {
   "codemirror_mode": {
    "name": "ipython",
    "version": 3
   },
   "file_extension": ".py",
   "mimetype": "text/x-python",
   "name": "python",
   "nbconvert_exporter": "python",
   "pygments_lexer": "ipython3",
   "version": "3.8.5"
  }
 },
 "nbformat": 4,
 "nbformat_minor": 4
}
