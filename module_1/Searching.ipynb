{
 "cells": [
  {
   "cell_type": "markdown",
   "metadata": {},
   "source": [
    "## Binary Search\n",
    "\n",
    "\n",
    "- Sort the array(Search Space)\n",
    "- compare x with midpoint (low=0+high=n-1)//2\n",
    "- if x == arr[mid] return\n",
    "- if x > arr[mid] low = mid ,continue search till low <= high\n",
    "- fi x < arr[mid] high = mid ,continue search till low <=high"
   ]
  },
  {
   "cell_type": "code",
   "execution_count": 19,
   "metadata": {},
   "outputs": [
    {
     "name": "stdout",
     "output_type": "stream",
     "text": [
      "5\n"
     ]
    }
   ],
   "source": [
    "def binary_search(arr,k):\n",
    "    low = 0\n",
    "    high = len(arr)-1\n",
    "    while (low <=high):\n",
    "        mid = (low + high)//2\n",
    "        if arr[mid] == k:return mid\n",
    "        if k > arr[mid] : low = mid+1\n",
    "        if k < arr[mid] : high = mid-1\n",
    "    return -1\n",
    "print(binary_search([23,44,67,71,75,77,81,98],77))"
   ]
  },
  {
   "cell_type": "markdown",
   "metadata": {},
   "source": [
    "## Recursinve Binary Search"
   ]
  },
  {
   "cell_type": "code",
   "execution_count": 33,
   "metadata": {},
   "outputs": [
    {
     "name": "stdout",
     "output_type": "stream",
     "text": [
      "0\n"
     ]
    }
   ],
   "source": [
    "def binary_search(arr,k,low=None,high=None):\n",
    "    if low is None or high is None:\n",
    "        low=0\n",
    "        high=len(arr)-1\n",
    "    if low > high:\n",
    "        return -1\n",
    "    mid=(low+high)//2\n",
    "    if k==arr[mid]:\n",
    "        return mid\n",
    "    if k > arr[mid]:\n",
    "        return binary_search(arr,k,mid+1,high)\n",
    "    else:\n",
    "        return binary_search(arr,k,low,mid-1)\n",
    "        \n",
    "print(binary_search([23,44,67,71,75,77,81,98],23))"
   ]
  },
  {
   "cell_type": "markdown",
   "metadata": {},
   "source": [
    "## Index for first occurence"
   ]
  },
  {
   "cell_type": "code",
   "execution_count": 37,
   "metadata": {},
   "outputs": [
    {
     "name": "stdout",
     "output_type": "stream",
     "text": [
      "3\n"
     ]
    }
   ],
   "source": [
    "def binary_search(arr,k):\n",
    "    low = 0\n",
    "    high = len(arr)-1\n",
    "    res=-1\n",
    "    while(low <= high):\n",
    "        mid = (low + high)//2\n",
    "        if k == arr[mid]:\n",
    "            res = mid\n",
    "        if k <=arr[mid]:\n",
    "            high = mid - 1 \n",
    "        else:\n",
    "            low = mid + 1\n",
    "    return res\n",
    "print(binary_search([23,44,67,71,71,71,71,75,77,81,81,81,98],71))"
   ]
  },
  {
   "cell_type": "markdown",
   "metadata": {},
   "source": [
    "## Index of Last Occurence"
   ]
  },
  {
   "cell_type": "code",
   "execution_count": 38,
   "metadata": {},
   "outputs": [
    {
     "name": "stdout",
     "output_type": "stream",
     "text": [
      "6\n"
     ]
    }
   ],
   "source": [
    "def binary_search(arr,k):\n",
    "    low,high,res = 0,len(arr)-1,-1\n",
    "    while(low <= high):\n",
    "        mid = (low + high)//2\n",
    "        if k == arr[mid]: res = mid\n",
    "        if k >= mid : low = mid + 1\n",
    "        if k < mid : high = mid - 1\n",
    "    return res\n",
    "print(binary_search([23,44,67,71,71,71,71,75,77,81,81,81,98],71))"
   ]
  },
  {
   "cell_type": "markdown",
   "metadata": {},
   "source": [
    "## Search element in a Rotated Array\n",
    "\n",
    "- Find the pivot point : starting element when array is properly sorted\n",
    "- Idea to find the pivot : pivot element will be the only element for which next element to it will be smaller than itself\n",
    "- Divide the array into two subarrays\n",
    "- if input is greater than 0th element then search in left subarray otherwise right subarray"
   ]
  },
  {
   "cell_type": "code",
   "execution_count": 6,
   "metadata": {},
   "outputs": [
    {
     "name": "stdout",
     "output_type": "stream",
     "text": [
      "4\n"
     ]
    }
   ],
   "source": [
    "def findPivot(arr):\n",
    "    low=0\n",
    "    high=len(arr)-1\n",
    "    while(low<=high):\n",
    "        mid = (low + high)//2\n",
    "        if (mid <= high and arr[mid] > arr[mid+1]):return mid\n",
    "        if (low <= mid and arr[mid] < arr[mid-1]):return mid\n",
    "        if (arr[low] >= arr[mid]):\n",
    "            high = mid-1\n",
    "        else : low = mid + 1\n",
    "    return -1\n",
    "        \n",
    "\n",
    "a=[5,6,7,8,9,1,2,3,4]\n",
    "print(findPivot(a))"
   ]
  }
 ],
 "metadata": {
  "kernelspec": {
   "display_name": "Python 3",
   "language": "python",
   "name": "python3"
  },
  "language_info": {
   "codemirror_mode": {
    "name": "ipython",
    "version": 3
   },
   "file_extension": ".py",
   "mimetype": "text/x-python",
   "name": "python",
   "nbconvert_exporter": "python",
   "pygments_lexer": "ipython3",
   "version": "3.8.5"
  }
 },
 "nbformat": 4,
 "nbformat_minor": 4
}
