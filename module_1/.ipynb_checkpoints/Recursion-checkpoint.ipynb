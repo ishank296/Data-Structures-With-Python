{
 "cells": [
  {
   "cell_type": "code",
   "execution_count": 2,
   "metadata": {},
   "outputs": [
    {
     "name": "stdout",
     "output_type": "stream",
     "text": [
      "GFG\n",
      "GFG\n",
      "GFG\n",
      "GFG\n",
      "GFG\n"
     ]
    }
   ],
   "source": [
    "def recur(n):\n",
    "    if n<=0:return\n",
    "    print(\"GFG\")\n",
    "    recur(n-1)\n",
    "recur(5)"
   ]
  },
  {
   "cell_type": "markdown",
   "metadata": {},
   "source": [
    "## Applications of Recursion\n",
    "\n",
    "- Dynamic Programming\n",
    "- Backtracking\n",
    "- Divide and Conquer (Binary Search, Quick Sort, Merge Sort)\n",
    "- DFS/BFS\n",
    "- Inorder/Postorder/Preorder"
   ]
  },
  {
   "cell_type": "code",
   "execution_count": 3,
   "metadata": {},
   "outputs": [
    {
     "name": "stdout",
     "output_type": "stream",
     "text": [
      "4\n",
      "3\n",
      "2\n",
      "1\n",
      "1\n",
      "2\n",
      "3\n",
      "4\n"
     ]
    }
   ],
   "source": [
    "def fun(n):\n",
    "    if n==0:\n",
    "        return\n",
    "    print(n)\n",
    "    fun(n-1)\n",
    "    print(n)\n",
    "fun(4)        "
   ]
  },
  {
   "cell_type": "code",
   "execution_count": 7,
   "metadata": {},
   "outputs": [
    {
     "name": "stdout",
     "output_type": "stream",
     "text": [
      "1\n",
      "2\n",
      "1\n",
      "3\n",
      "1\n",
      "2\n",
      "1\n"
     ]
    }
   ],
   "source": [
    "def fun(n):\n",
    "    if n==0:\n",
    "        return \n",
    "    fun(n-1)\n",
    "    print(n)\n",
    "    fun(n-1)\n",
    "fun(3) "
   ]
  },
  {
   "cell_type": "code",
   "execution_count": 9,
   "metadata": {},
   "outputs": [
    {
     "data": {
      "text/plain": [
       "4"
      ]
     },
     "execution_count": 9,
     "metadata": {},
     "output_type": "execute_result"
    }
   ],
   "source": [
    "def fun(n):\n",
    "    if n <=1: return 0\n",
    "    else : return 1 + fun(n/2)\n",
    "fun(16)\n",
    "#fun(16) - fun(8) - fun(4) - fun(2) - fun(1) = floor of log base 2\n",
    "#1 + 1 + 1 + 1 + 0"
   ]
  },
  {
   "cell_type": "markdown",
   "metadata": {},
   "source": [
    "### Print number's binary format"
   ]
  },
  {
   "cell_type": "code",
   "execution_count": 12,
   "metadata": {},
   "outputs": [
    {
     "name": "stdout",
     "output_type": "stream",
     "text": [
      "1\n",
      "1\n",
      "0\n",
      "1\n"
     ]
    }
   ],
   "source": [
    "def fun(n):\n",
    "    if n==0 :return \n",
    "    fun(n//2)\n",
    "    print(n%2)\n",
    "fun(13)"
   ]
  },
  {
   "cell_type": "markdown",
   "metadata": {},
   "source": [
    "### Sum of Natural Numbers"
   ]
  },
  {
   "cell_type": "code",
   "execution_count": 15,
   "metadata": {},
   "outputs": [
    {
     "name": "stdout",
     "output_type": "stream",
     "text": [
      "55\n"
     ]
    }
   ],
   "source": [
    "n=10\n",
    "s = (n*(n+1))//2\n",
    "print(s)"
   ]
  },
  {
   "cell_type": "markdown",
   "metadata": {},
   "source": [
    "### print N to 1"
   ]
  },
  {
   "cell_type": "code",
   "execution_count": 17,
   "metadata": {},
   "outputs": [
    {
     "name": "stdout",
     "output_type": "stream",
     "text": [
      "9\n",
      "8\n",
      "7\n",
      "6\n",
      "5\n",
      "4\n",
      "3\n",
      "2\n",
      "1\n"
     ]
    }
   ],
   "source": [
    "def printNto1(n):\n",
    "    if n ==0 :\n",
    "        return\n",
    "    print(n)\n",
    "    printNto1(n-1)\n",
    "printNto1(9)"
   ]
  },
  {
   "cell_type": "markdown",
   "metadata": {},
   "source": [
    "### print 1 to N"
   ]
  },
  {
   "cell_type": "code",
   "execution_count": 18,
   "metadata": {},
   "outputs": [
    {
     "name": "stdout",
     "output_type": "stream",
     "text": [
      "1\n",
      "2\n",
      "3\n",
      "4\n",
      "5\n",
      "6\n",
      "7\n",
      "8\n",
      "9\n",
      "10\n"
     ]
    }
   ],
   "source": [
    "def print1toN(n):\n",
    "    if n ==0: return\n",
    "    print1toN(n-1)\n",
    "    print(n)\n",
    "print1toN(10)"
   ]
  },
  {
   "cell_type": "markdown",
   "metadata": {},
   "source": [
    "### Sum of Digits using Recursion"
   ]
  },
  {
   "cell_type": "code",
   "execution_count": 24,
   "metadata": {},
   "outputs": [
    {
     "data": {
      "text/plain": [
       "9"
      ]
     },
     "execution_count": 24,
     "metadata": {},
     "output_type": "execute_result"
    }
   ],
   "source": [
    "def fun(n):\n",
    "    if n < 10:\n",
    "        return n\n",
    "    else: return n%10 + fun(n//10)\n",
    "fun(1215)"
   ]
  },
  {
   "cell_type": "markdown",
   "metadata": {},
   "source": [
    "### Tower of Hanoi"
   ]
  },
  {
   "cell_type": "raw",
   "metadata": {},
   "source": [
    "    |     |    |\n",
    "   =|=    |    |\n",
    "  ==|==   |    |\n",
    " ===|===  |    |\n",
    "    A     B    C\n",
    "    \n",
    "TOH(n-1,A,C,B) --> move n-1 discs from A to B using C as aux \n",
    "move disc n from A to C\n",
    "TOH(n-1,B,A,C) --> move n-1 discs from B to C using A as aux"
   ]
  },
  {
   "cell_type": "code",
   "execution_count": 35,
   "metadata": {},
   "outputs": [
    {
     "name": "stdout",
     "output_type": "stream",
     "text": [
      "Move disc 1 from A to C\n",
      "Move disc 2 from A to B\n",
      "Move disc 1 from C to B\n",
      "Move disc 3 from A to C\n",
      "Move disc 1 from B to A\n",
      "Move disc 2 from B to C\n",
      "Move disc 1 from A to C\n"
     ]
    }
   ],
   "source": [
    "def towerOfHanoi(n,A,B,C):\n",
    "    if n == 1:\n",
    "        print(\"Move disc 1 from {0} to {1}\".format(*(A,C)))\n",
    "    else:\n",
    "        towerOfHanoi(n-1,A,C,B)\n",
    "        print(\"Move disc {0} from {1} to {2}\".format(*(n,A,C)))\n",
    "        towerOfHanoi(n-1,B,A,C)\n",
    "towerOfHanoi(3,'A','B','C')"
   ]
  },
  {
   "cell_type": "markdown",
   "metadata": {},
   "source": [
    "### Josephus Problem"
   ]
  },
  {
   "cell_type": "code",
   "execution_count": 43,
   "metadata": {},
   "outputs": [
    {
     "name": "stdout",
     "output_type": "stream",
     "text": [
      "2\n",
      "0\n",
      "3\n"
     ]
    }
   ],
   "source": [
    "def jos(n,k):\n",
    "    if n == 1 : return 0\n",
    "    return (jos(n-1,k) + k)%n\n",
    "print(jos(5,2))\n",
    "print(jos(4,2))\n",
    "print(jos(7,3))"
   ]
  },
  {
   "cell_type": "markdown",
   "metadata": {},
   "source": [
    "### Nth Fibonacci Number"
   ]
  },
  {
   "cell_type": "code",
   "execution_count": 7,
   "metadata": {},
   "outputs": [
    {
     "name": "stdout",
     "output_type": "stream",
     "text": [
      "1 1 2 3 5 8 13 21 34 "
     ]
    }
   ],
   "source": [
    "def fibonacci(n):\n",
    "    if n ==1 or n ==2 : return 1\n",
    "    return fibonacci(n-1) + fibonacci(n-2)\n",
    "for i in range(1,10):\n",
    "    print(fibonacci(i),end=\" \")"
   ]
  },
  {
   "cell_type": "markdown",
   "metadata": {},
   "source": [
    "### Print Array recusively"
   ]
  },
  {
   "cell_type": "code",
   "execution_count": 8,
   "metadata": {},
   "outputs": [
    {
     "name": "stdout",
     "output_type": "stream",
     "text": [
      "3 4 5 6 7 8 9 "
     ]
    }
   ],
   "source": [
    "def printArrRec(arr):\n",
    "    if len(arr) == 0 : return\n",
    "    print(arr[0],end=\" \")\n",
    "    printArrRec(arr[1:])\n",
    "printArrRec([3,4,5,6,7,8,9])"
   ]
  },
  {
   "cell_type": "markdown",
   "metadata": {},
   "source": [
    "### Euclid GCD Algorigthm:::\n",
    "- If we subtract a smaller number from a larger (we reduce a larger number), GCD doesn’t change. So if we keep subtracting repeatedly the larger of two, we end up with GCD.\n",
    "- Now instead of subtraction, if we divide the smaller number, the algorithm stops when we find remainder 0."
   ]
  },
  {
   "cell_type": "code",
   "execution_count": 2,
   "metadata": {},
   "outputs": [
    {
     "name": "stdout",
     "output_type": "stream",
     "text": [
      "125\n"
     ]
    }
   ],
   "source": [
    "def gcd(a,b):\n",
    "    if a == 0 : return b\n",
    "    return gcd(b%a,a)\n",
    "\n",
    "print(gcd(625,125))"
   ]
  },
  {
   "cell_type": "markdown",
   "metadata": {},
   "source": [
    "### Check if Number is Palindrom"
   ]
  },
  {
   "cell_type": "code",
   "execution_count": null,
   "metadata": {},
   "outputs": [],
   "source": [
    "def PalUtil(num,dupnum):\n",
    "    if (num == 0) : return dupnum\n",
    "    else : dupnum=PalUtil(num//10,dupnum)\n",
    "    if(num%10 == dupnum%10):\n",
    "        return dupnum//10\n",
    "    else : throw Exception ()  "
   ]
  }
 ],
 "metadata": {
  "kernelspec": {
   "display_name": "Python 3",
   "language": "python",
   "name": "python3"
  },
  "language_info": {
   "codemirror_mode": {
    "name": "ipython",
    "version": 3
   },
   "file_extension": ".py",
   "mimetype": "text/x-python",
   "name": "python",
   "nbconvert_exporter": "python",
   "pygments_lexer": "ipython3",
   "version": "3.8.5"
  }
 },
 "nbformat": 4,
 "nbformat_minor": 4
}
