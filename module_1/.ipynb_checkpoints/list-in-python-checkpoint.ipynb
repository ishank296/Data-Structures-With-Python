{
 "cells": [
  {
   "cell_type": "markdown",
   "metadata": {},
   "source": [
    "## List (Dynamic Size Array) Introduction"
   ]
  },
  {
   "cell_type": "code",
   "execution_count": 10,
   "metadata": {
    "scrolled": true
   },
   "outputs": [
    {
     "name": "stdout",
     "output_type": "stream",
     "text": [
      "[23, 12, 34, 50]\n",
      "12\n",
      "50\n",
      "50\n",
      "34\n"
     ]
    }
   ],
   "source": [
    "l = [23,12,34,50]\n",
    "print(l)\n",
    "print(l[1])\n",
    "print(l[3])\n",
    "print(l[-1])\n",
    "print(l[-2])"
   ]
  },
  {
   "cell_type": "code",
   "execution_count": 12,
   "metadata": {},
   "outputs": [
    {
     "name": "stdout",
     "output_type": "stream",
     "text": [
      "[23, 15, 12, 34, 50, 39]\n",
      "True\n",
      "False\n",
      "1\n",
      "4\n"
     ]
    }
   ],
   "source": [
    "l = [23,12,34,50]\n",
    "l.append(39)\n",
    "l.insert(1,15)\n",
    "print(l)\n",
    "print(34 in l)\n",
    "print(8 in l)\n",
    "print(l.count(12))\n",
    "print(l.index(50))"
   ]
  },
  {
   "cell_type": "code",
   "execution_count": 22,
   "metadata": {},
   "outputs": [
    {
     "name": "stdout",
     "output_type": "stream",
     "text": [
      "After removing 63:  [23, 44, 98, 21, 11, 53, 56, 76]\n",
      "76\n",
      "After performing pop:  [23, 44, 98, 21, 11, 53, 56]\n",
      "98\n",
      "After performing pop(2):  [23, 44, 21, 11, 53, 56]\n",
      "after performing del:  [23, 21, 11, 53, 56]\n",
      "after deleting l[0:2] [11, 53, 56]\n"
     ]
    }
   ],
   "source": [
    "l = [23,44,63,98,21,11,53,56,76] \n",
    "l.remove(63)\n",
    "print(\"After removing 63: \",l)\n",
    "print(l.pop())\n",
    "print(\"After performing pop: \",l)\n",
    "print(l.pop(2))\n",
    "print(\"After performing pop(2): \",l)\n",
    "del l[1]\n",
    "print(\"after performing del: \",l)\n",
    "del l[0:2]\n",
    "print(\"after deleting l[0:2]\",l)"
   ]
  },
  {
   "cell_type": "code",
   "execution_count": 25,
   "metadata": {},
   "outputs": [
    {
     "name": "stdout",
     "output_type": "stream",
     "text": [
      "65\n",
      "2\n",
      "140\n",
      "[12, 32, 21, 65, 2, 5, 3]\n",
      "[2, 3, 5, 12, 21, 32, 65]\n"
     ]
    }
   ],
   "source": [
    "l=[3,5,2,65,21,32,12]\n",
    "print(max(l))\n",
    "print(min(l))\n",
    "print(sum(l))\n",
    "l.reverse()\n",
    "print(l)\n",
    "l.sort()\n",
    "print(l)"
   ]
  },
  {
   "cell_type": "markdown",
   "metadata": {},
   "source": [
    "## Working of List in Python"
   ]
  },
  {
   "cell_type": "markdown",
   "metadata": {},
   "source": [
    "### How does dynamic size works?\n",
    " - Preallocate some extra space\n",
    " - If becomes full,doe the following : \n",
    "        * Allocate new space of larger size(multiplier of x ~ 1.125 for python)\n",
    "        * Copy old space to new\n",
    "        * Fee old space"
   ]
  },
  {
   "cell_type": "markdown",
   "metadata": {},
   "source": [
    "### Advantages of list : \n",
    "- Random search operation is fast. Append/Pop operation is of O(1)\n",
    "\n",
    "### Disadvantages of list:\n",
    "- Insert/Delete operation at particular index is slow "
   ]
  },
  {
   "cell_type": "markdown",
   "metadata": {},
   "source": [
    "## Average/Mean of List"
   ]
  },
  {
   "cell_type": "code",
   "execution_count": 30,
   "metadata": {},
   "outputs": [
    {
     "name": "stdout",
     "output_type": "stream",
     "text": [
      "40.625\n",
      "40.625\n"
     ]
    }
   ],
   "source": [
    "def average(l):\n",
    "    sum = 0\n",
    "    for x in l : \n",
    "        sum = sum + x\n",
    "    n = len(l)\n",
    "    return sum/n\n",
    "\n",
    "def average_v2(l):\n",
    "    s = sum(l)\n",
    "    n = len(l)\n",
    "    return s/n\n",
    "\n",
    "l = [23,44,22,67,12,43,89,25]\n",
    "print(average(l))\n",
    "print(average_v2(l))"
   ]
  },
  {
   "cell_type": "markdown",
   "metadata": {},
   "source": [
    "## Separate Even/Odd from list"
   ]
  },
  {
   "cell_type": "code",
   "execution_count": 31,
   "metadata": {},
   "outputs": [
    {
     "name": "stdout",
     "output_type": "stream",
     "text": [
      "([2, 6, 56, 24, 90], [3, 23, 77])\n"
     ]
    }
   ],
   "source": [
    "def getEvenOdd(l):\n",
    "    even=[]\n",
    "    odd=[]\n",
    "    for x in l:\n",
    "        if x % 2 == 0:even.append(x)\n",
    "        else : odd.append(x)\n",
    "    return even,odd\n",
    "l=[2,3,6,23,56,24,77,90]\n",
    "print(getEvenOdd(l))"
   ]
  },
  {
   "cell_type": "markdown",
   "metadata": {},
   "source": [
    "## Get Smaller Elements "
   ]
  },
  {
   "cell_type": "code",
   "execution_count": 32,
   "metadata": {},
   "outputs": [
    {
     "name": "stdout",
     "output_type": "stream",
     "text": [
      "[12, 20, 34, 50, 56]\n"
     ]
    }
   ],
   "source": [
    "def getSmaller(l,x):\n",
    "    op=[]\n",
    "    for i in l:\n",
    "        if i < x: op.append(i)\n",
    "    return op\n",
    "l=[12,20,34,50,60,56,80,90]\n",
    "print(getSmaller(l,60))"
   ]
  },
  {
   "cell_type": "markdown",
   "metadata": {},
   "source": [
    "## Slicing (list,tuple and String)"
   ]
  },
  {
   "cell_type": "code",
   "execution_count": 45,
   "metadata": {
    "scrolled": true
   },
   "outputs": [
    {
     "name": "stdout",
     "output_type": "stream",
     "text": [
      "[2, 5, 6]\n",
      "[2, 4, 5, 8]\n",
      "[5, 8, 6, 10, 14, 45, 23]\n",
      "[4, 5, 8]\n",
      "[6, 8, 5]\n",
      "[23, 45, 14, 10, 6]\n",
      "[23, 45, 14, 10, 6, 8, 5, 4, 2]\n",
      "[2, 4, 5, 8, 6, 10, 14, 45, 23]\n"
     ]
    }
   ],
   "source": [
    "l=[2,4,5,8,6,10,14,45,23]\n",
    "print(l[0:5:2])\n",
    "print(l[:4])\n",
    "print(l[2:])\n",
    "print(l[1:4])\n",
    "print(l[4:1:-1]) \n",
    "print(l[-1:-6:-1])\n",
    "print(l[::-1]) # reverse list\n",
    "print(l[:])"
   ]
  },
  {
   "cell_type": "code",
   "execution_count": 47,
   "metadata": {},
   "outputs": [
    {
     "name": "stdout",
     "output_type": "stream",
     "text": [
      "False\n",
      "True\n",
      "True\n"
     ]
    }
   ],
   "source": [
    "l1=[12,23,34]\n",
    "l2 = l1[:]\n",
    "print(l1 is l2)\n",
    "t1=(12,23,45)\n",
    "t2 = t1[:]\n",
    "print(t1 is t2)\n",
    "s1=\"abcde\"\n",
    "s2=s1[:]\n",
    "print(s1 is s2)"
   ]
  },
  {
   "cell_type": "markdown",
   "metadata": {},
   "source": [
    "- When -ve step is given in list slicing then start should be greater than stop otherwise output will be empty list"
   ]
  },
  {
   "cell_type": "markdown",
   "metadata": {},
   "source": [
    "## Comprehensions"
   ]
  },
  {
   "cell_type": "code",
   "execution_count": 52,
   "metadata": {},
   "outputs": [
    {
     "name": "stdout",
     "output_type": "stream",
     "text": [
      "[0, 2, 4, 6, 8, 10]\n",
      "[1, 3, 5, 7, 9]\n",
      "[45, 23]\n",
      "[0, 2, 4, 6, 8, 10, 12, 14, 16, 18, 20]\n"
     ]
    }
   ],
   "source": [
    "l1 = [x for x in range(11) if x % 2 == 0]\n",
    "print(l1)\n",
    "l2 = [x for x in range(11) if x % 2 != 0]\n",
    "print(l2)\n",
    "l=[45,23,67,88,90,100]\n",
    "l=[x for x in l if x < 60]\n",
    "print(l)\n",
    "l4 = [x*2 for x in range(11)]\n",
    "print(l4)"
   ]
  },
  {
   "cell_type": "markdown",
   "metadata": {},
   "source": [
    "### Set Comprehension"
   ]
  },
  {
   "cell_type": "code",
   "execution_count": 54,
   "metadata": {},
   "outputs": [
    {
     "name": "stdout",
     "output_type": "stream",
     "text": [
      "{34, 10, 54, 22, 56, 24}\n",
      "{53}\n"
     ]
    }
   ],
   "source": [
    "l = [53,10,34,56,10,53,54,56,24,22,24]\n",
    "s1 = {i for i in l if i % 2 ==0}\n",
    "s2={i for i in l if i % 2 !=0}\n",
    "print(s1)\n",
    "print(s2)"
   ]
  },
  {
   "cell_type": "markdown",
   "metadata": {},
   "source": [
    "### Dicitionary Comprehension"
   ]
  },
  {
   "cell_type": "code",
   "execution_count": 67,
   "metadata": {},
   "outputs": [
    {
     "name": "stdout",
     "output_type": "stream",
     "text": [
      "{1: 1, 3: 27, 4: 64, 2: 8, 5: 125, 8: 512}\n",
      "{1: 94564243406144, 3: 94564243406208, 4: 94564243406240, 2: 94564243406176, 5: 94564243406272, 8: 94564243406368}\n",
      "{101: 'John', 122: 'Ana', 143: 'Matt'}\n",
      "{101: 'John', 122: 'Ana', 143: 'Matt'}\n",
      "{'Python': 101, 'Java': 102, 'C plus plus': 103}\n"
     ]
    }
   ],
   "source": [
    "l1 = [1,3,4,2,5,8]\n",
    "d1 = {x:x**3 for x in l1}\n",
    "print(d1)\n",
    "d2 = {x:id(x) for x in l1}\n",
    "print(d2)\n",
    "l2=[101,122,143]\n",
    "l3=[\"John\",\"Ana\",\"Matt\"]\n",
    "d3 = {l2[i]:l3[i] for i in range(len(l2))}\n",
    "print(d3)\n",
    "print(dict(zip(l2,l3)))\n",
    "\n",
    "## reverse key value in dictionary\n",
    "d = {101:\"Python\",102:\"Java\",103:\"C plus plus\"}\n",
    "d_r = {v:k for (k,v) in d.items()}\n",
    "print(d_r)"
   ]
  },
  {
   "cell_type": "markdown",
   "metadata": {},
   "source": [
    "## Largest Element in List"
   ]
  },
  {
   "cell_type": "code",
   "execution_count": 69,
   "metadata": {},
   "outputs": [
    {
     "name": "stdout",
     "output_type": "stream",
     "text": [
      "20\n",
      "None\n"
     ]
    }
   ],
   "source": [
    "l = [12,4,20,8]\n",
    "def getMax(l):\n",
    "    for x in l:\n",
    "        for y in l:\n",
    "            if y > x: break\n",
    "        else: \n",
    "            return x\n",
    "    return None\n",
    "print(getMax(l))\n",
    "print(getMax([]))"
   ]
  },
  {
   "cell_type": "code",
   "execution_count": 70,
   "metadata": {},
   "outputs": [
    {
     "name": "stdout",
     "output_type": "stream",
     "text": [
      "20\n"
     ]
    }
   ],
   "source": [
    "def getMax_v2(l):\n",
    "    if not l: return None\n",
    "    else:\n",
    "        res=l[0]\n",
    "        for i in range(1,len(l)):\n",
    "            if l[i] > res : res= l[i]\n",
    "        return res\n",
    "print(getMax_v2(l))"
   ]
  },
  {
   "cell_type": "markdown",
   "metadata": {},
   "source": [
    "## Second largest element in list"
   ]
  },
  {
   "cell_type": "code",
   "execution_count": 71,
   "metadata": {},
   "outputs": [
    {
     "name": "stdout",
     "output_type": "stream",
     "text": [
      "12\n"
     ]
    }
   ],
   "source": [
    "def getSecMax(l):\n",
    "   if len(l) <=1 : return None\n",
    "   lar = getMax(l)\n",
    "   sec_lar = None\n",
    "   for x in l : \n",
    "        if x !=lar:\n",
    "            if sec_lar is None :\n",
    "                sec_lar = x\n",
    "            else:\n",
    "                sec_lar = max(sec_lar,x)\n",
    "   return sec_lar\n",
    "print(getSecMax(l))"
   ]
  },
  {
   "cell_type": "code",
   "execution_count": 77,
   "metadata": {},
   "outputs": [
    {
     "name": "stdout",
     "output_type": "stream",
     "text": [
      "12\n",
      "None\n"
     ]
    }
   ],
   "source": [
    "def getSecMax_v2(l):\n",
    "    if len(l) <=1 : return None\n",
    "    lar = l[0]\n",
    "    slar=None\n",
    "    for i in range(1,len(l)):\n",
    "        if l[i] > lar : \n",
    "            slar = lar\n",
    "            lar = l[i]\n",
    "        elif l[i] < lar :\n",
    "            if (slar is None or slar < l[i]) : \n",
    "                slar = l[i]\n",
    "        else : continue\n",
    "    return slar\n",
    "print(getSecMax_v2(l))\n",
    "print(getSecMax_v2([12,12,12]))"
   ]
  },
  {
   "cell_type": "markdown",
   "metadata": {},
   "source": [
    "## Check if list is Sorted"
   ]
  },
  {
   "cell_type": "code",
   "execution_count": 79,
   "metadata": {},
   "outputs": [
    {
     "name": "stdout",
     "output_type": "stream",
     "text": [
      "True\n",
      "False\n"
     ]
    }
   ],
   "source": [
    "l1=[2,3,4,5,6,7]\n",
    "l2=[5,3,2,6,7,3]\n",
    "def check_sorted(l):\n",
    "    for i in range(1,len(l)):\n",
    "        if l[i] < l[i-1]: return False\n",
    "    else:\n",
    "        return True\n",
    "print(check_sorted(l1))\n",
    "print(check_sorted(l2))"
   ]
  },
  {
   "cell_type": "markdown",
   "metadata": {},
   "source": [
    "## Find only element with Odd occurences"
   ]
  },
  {
   "cell_type": "code",
   "execution_count": 80,
   "metadata": {},
   "outputs": [
    {
     "name": "stdout",
     "output_type": "stream",
     "text": [
      "20\n"
     ]
    }
   ],
   "source": [
    "def findOdd(l):\n",
    "    if not l : return None\n",
    "    res = l[0]\n",
    "    for i in range(1,len(l)):\n",
    "        res = res ^ l[i]\n",
    "    return res\n",
    "l=[20,20,20,30,30,45,45,44,33,44,33,]\n",
    "print(findOdd(l))"
   ]
  },
  {
   "cell_type": "markdown",
   "metadata": {},
   "source": [
    "## Reversing List"
   ]
  },
  {
   "cell_type": "code",
   "execution_count": 84,
   "metadata": {},
   "outputs": [
    {
     "name": "stdout",
     "output_type": "stream",
     "text": [
      "[2, 3, 7, 6, 6, 23, 4]\n",
      "[4, 23, 6, 6, 7, 3, 2]\n",
      "[4, 23, 6, 6, 7, 3, 2]\n"
     ]
    }
   ],
   "source": [
    "l = [4,23,6,6,7,3,2]\n",
    "l.reverse()\n",
    "print(l)\n",
    "new_l = reversed(l)\n",
    "print(list(new_l))\n",
    "\n",
    "new_l = l[::-1]\n",
    "print(new_l)"
   ]
  },
  {
   "cell_type": "code",
   "execution_count": 89,
   "metadata": {},
   "outputs": [
    {
     "name": "stdout",
     "output_type": "stream",
     "text": [
      "[8, 7, 6, 5, 4, 3, 2, 1]\n"
     ]
    }
   ],
   "source": [
    "l=[1,2,3,4,5,6,7,8]\n",
    "def reverse_list(l):\n",
    "    s = 0\n",
    "    e = len(l)-1\n",
    "    while(s < e):\n",
    "        l[s],l[e] = l[e],l[s]\n",
    "        s = s+1\n",
    "        e = e-1\n",
    "    return l\n",
    "print(reverse_list(l))"
   ]
  }
 ],
 "metadata": {
  "kernelspec": {
   "display_name": "Python 3",
   "language": "python",
   "name": "python3"
  },
  "language_info": {
   "codemirror_mode": {
    "name": "ipython",
    "version": 3
   },
   "file_extension": ".py",
   "mimetype": "text/x-python",
   "name": "python",
   "nbconvert_exporter": "python",
   "pygments_lexer": "ipython3",
   "version": "3.8.5"
  }
 },
 "nbformat": 4,
 "nbformat_minor": 4
}
