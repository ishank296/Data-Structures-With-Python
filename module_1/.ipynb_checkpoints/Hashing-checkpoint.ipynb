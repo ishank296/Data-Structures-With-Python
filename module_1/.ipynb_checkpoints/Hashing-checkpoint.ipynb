{
 "cells": [
  {
   "cell_type": "markdown",
   "metadata": {},
   "source": [
    "## Hashing\n",
    "\n",
    "- Mainly used to implement Dictionaries\n",
    "- Its is also used to implement Set\n",
    "- It provide search,insert,delete in O(1) complexity\n",
    "- All values are unique\n",
    "\n",
    "Dicitonary/Hash table not recommended for folowing usecases\n",
    " - Find closest value\n",
    " - Sorted Data\n",
    " - prefix searching"
   ]
  },
  {
   "cell_type": "markdown",
   "metadata": {},
   "source": [
    "## Applications of Hashing\n",
    "\n",
    "- Dicitionaries\n",
    "- Database Indexing\n",
    "- Cryptography\n",
    "- Caches\n",
    "- Symbol Tables in Compiler/Interpreter"
   ]
  },
  {
   "cell_type": "markdown",
   "metadata": {},
   "source": [
    "## Hashing Function\n",
    "\n",
    "### Direct Addressing (using key values as array index)\n",
    " - many drawbacks\n",
    " - cannot work with large values\n",
    " - cannot work with String keys\n",
    " - does not work with floats\n",
    " \n",
    "### Ideal Hash Function\n",
    " - should always map large key values to same small key\n",
    " - should generate values from 0 to m-1\n",
    " - should be fast, O(1) for integer and O(len) for string of length 'len'\n",
    " - should uniformly distribute the input keys\n",
    " \n",
    " ### Example of hash function\n",
    " - h(large key) = large key % m - m should be prime number not closed to any power\n",
    " - For strings, weighted sum \n",
    "  str = \"abcd\"\n",
    "  (str[0] * x0 + str[1] * x1 + str[2] * x2 + ..) % m\n",
    " - universal hashing"
   ]
  },
  {
   "cell_type": "markdown",
   "metadata": {},
   "source": [
    "## Collision Handling\n",
    "\n",
    "- If we know keys in advance, then we can have perfect Hashing\n",
    "- If we do not know keys, then one of the following \n",
    "    - chaining\n",
    "    - open addressing\n",
    "         - linear probing\n",
    "         - quadratic probing\n",
    "         - double hashing"
   ]
  },
  {
   "cell_type": "markdown",
   "metadata": {},
   "source": [
    "### Chaining\n",
    "\n",
    "Array of linked list headers\n",
    "Whenever a collision happens , we insert the element at end of the list\n",
    "\n",
    "Performance\n",
    " - m = Number of slots in hash table\n",
    " - n = Number of Keys to be inserted\n",
    " - Load Factor = m/n\n",
    " - Expected Chain Length = Load Factor\n",
    " - Expected time to search = O(1 + Load Factor)\n",
    " - Expected time to insert/delete = O(1 + Load Factor)"
   ]
  },
  {
   "cell_type": "markdown",
   "metadata": {},
   "source": [
    "## Implementation of Chaining"
   ]
  },
  {
   "cell_type": "code",
   "execution_count": 13,
   "metadata": {},
   "outputs": [
    {
     "name": "stdout",
     "output_type": "stream",
     "text": [
      "[[70, 28], [71, 1], [9], [17], [], [54], [20]]\n",
      "True\n"
     ]
    }
   ],
   "source": [
    "class MyHash:\n",
    "    def __init__(self,bucket_size):\n",
    "        self.BUCKET=bucket_size\n",
    "        self.table = [[] for x in range(self.BUCKET)]\n",
    "    \n",
    "    def insert(self,x):\n",
    "        i = x % self.BUCKET\n",
    "        self.table[i].append(x)\n",
    "    \n",
    "    def remove(self,x):\n",
    "        i = x % self.BUCKET\n",
    "        self.table[i].remove(x)\n",
    "    \n",
    "    def search(self,x):\n",
    "        i = x % self.BUCKET\n",
    "        return (x in self.table[i])\n",
    "\n",
    "    \n",
    "myhash = MyHash(7)\n",
    "myhash.insert(70)\n",
    "myhash.insert(71)\n",
    "myhash.insert(9)\n",
    "myhash.insert(17)\n",
    "myhash.insert(28)\n",
    "myhash.insert(1)\n",
    "myhash.insert(20)\n",
    "myhash.insert(54)\n",
    "print(myhash.table)\n",
    "print(myhash.search(70))\n",
    "\n",
    "        "
   ]
  },
  {
   "cell_type": "markdown",
   "metadata": {},
   "source": [
    "### Open Addressing\n",
    " - Linear Probing\n",
    " - Number of slots in hash table >= Number of elements to be stored\n",
    " - Insert : During Insert, if collision occurs then store new element in next empty slot in the table. \n",
    "   In case if last slot is filled in list, then traverse cyclic\n",
    " - Search : We compute hash function, go to the index and compare. If value found return true\n",
    "   else we linearly search. we stop on one of following scenarios\n",
    "    - Empty slot reached\n",
    "    - value found\n",
    "    - traversed whole list\n",
    " - Delete : Remove value from slot and mark slot as Deleted"
   ]
  },
  {
   "cell_type": "markdown",
   "metadata": {},
   "source": [
    "### Clustering : Issue with Open Addressing\n"
   ]
  },
  {
   "cell_type": "markdown",
   "metadata": {},
   "source": [
    "### Open Addressing implementation"
   ]
  },
  {
   "cell_type": "code",
   "execution_count": null,
   "metadata": {},
   "outputs": [],
   "source": [
    "class MyHash:\n",
    "    def __init__(self,size):\n",
    "        "
   ]
  },
  {
   "cell_type": "markdown",
   "metadata": {},
   "source": [
    "## Open Addressing vs Chaining\n",
    "\n",
    "----------------------------\n",
    "|Open Addressing | Chaining|\n",
    "---------------------------|-------------------------------------------------\n",
    "|has table never fills | Table may become full and resizing becomes mandatory|\n",
    "|less sensitive to hash functions | Extra care req for clustering|\n",
    "|Poor cache performance | cache friendly|\n",
    "\n"
   ]
  },
  {
   "cell_type": "markdown",
   "metadata": {},
   "source": [
    "## Set in Python\n",
    " - Distinct Elements\n",
    " - Unorderd\n",
    " - No Indexing\n",
    " - uses hashing internally\n",
    " - common operations : union,intersection,set difference"
   ]
  },
  {
   "cell_type": "code",
   "execution_count": 3,
   "metadata": {},
   "outputs": [
    {
     "name": "stdout",
     "output_type": "stream",
     "text": [
      "{10, 20, 30}\n",
      "{40, 50, 20, 30}\n",
      "<class 'dict'>\n",
      "<class 'set'>\n"
     ]
    }
   ],
   "source": [
    "s1 = {10,20,30}\n",
    "print(s1)\n",
    "s2 = set([20,30,40,50])\n",
    "print(s2)\n",
    "s3 = {}\n",
    "print(type(s3))\n",
    "s3=set()\n",
    "print(type(s3))"
   ]
  },
  {
   "cell_type": "markdown",
   "metadata": {},
   "source": [
    "### Adding/Insert Operation in Set"
   ]
  },
  {
   "cell_type": "code",
   "execution_count": 7,
   "metadata": {},
   "outputs": [
    {
     "name": "stdout",
     "output_type": "stream",
     "text": [
      "{40, 50, 20, 60, 30}\n",
      "{40, 50, 20, 60, 30}\n",
      "{68, 70, 10, 20, 30}\n"
     ]
    }
   ],
   "source": [
    "s2.add(60) # add new element in set\n",
    "print(s2)  # add same element twice in set does not change set\n",
    "s2.add(50)\n",
    "print(s2)\n",
    "s1.update([30,70,68])\n",
    "print(s1)"
   ]
  },
  {
   "cell_type": "markdown",
   "metadata": {},
   "source": [
    "### Remove/Delete Operation in Set"
   ]
  },
  {
   "cell_type": "code",
   "execution_count": 15,
   "metadata": {},
   "outputs": [
    {
     "name": "stdout",
     "output_type": "stream",
     "text": [
      "{70, 10, 80, 50, 30}\n",
      "{70, 10, 80, 30}\n",
      "set()\n"
     ]
    }
   ],
   "source": [
    "s = {10,20,30,50,70,80}\n",
    "s.discard(20)\n",
    "s.discard(45) # Discard function does not do anything if we provide item not present in set\n",
    "print(s)\n",
    "s.remove(50) # Remove function raises error if provided item is not member of set\n",
    "print(s)\n",
    "s.clear()\n",
    "print(s)\n",
    "s.add(50)\n",
    "del s"
   ]
  },
  {
   "cell_type": "code",
   "execution_count": 16,
   "metadata": {},
   "outputs": [
    {
     "name": "stdout",
     "output_type": "stream",
     "text": [
      "6\n",
      "True\n",
      "False\n"
     ]
    }
   ],
   "source": [
    "s = {10,12,1,31,4,56}\n",
    "print(len(s))\n",
    "print(10 in s)\n",
    "print(23 in s)"
   ]
  },
  {
   "cell_type": "code",
   "execution_count": 29,
   "metadata": {},
   "outputs": [
    {
     "name": "stdout",
     "output_type": "stream",
     "text": [
      "{2, 3, 4, 5, 12, 13, 14, 15}\n",
      "{2, 3, 4, 5, 12, 13, 14, 15}\n",
      "{12, 13}\n",
      "{12, 13}\n",
      "{14, 15}\n",
      "{14, 15}\n",
      "{2, 3, 4, 5, 14, 15}\n",
      "False\n",
      "False\n",
      "False\n",
      "False\n",
      "False\n",
      "False\n"
     ]
    }
   ],
   "source": [
    "s1={12,13,14,15}\n",
    "s2={2,3,4,5,12,13}\n",
    "print(s1 | s2)\n",
    "print(s1.union(s2))\n",
    "print(s1 & s2)\n",
    "print(s1.intersection(s2))\n",
    "print(s1-s2)\n",
    "print(s1.difference(s2))\n",
    "print(s1^s2)\n",
    "print(s1.isdisjoint(s2))\n",
    "print(s1 <=s2)\n",
    "print(s1 < s2) # proper subset\n",
    "print(s1.issubset(s2))\n",
    "print(s1 >= s2)\n",
    "print(s1.issuperset(s2))"
   ]
  },
  {
   "cell_type": "markdown",
   "metadata": {},
   "source": [
    "## Dictionary in Python"
   ]
  },
  {
   "cell_type": "code",
   "execution_count": 39,
   "metadata": {},
   "outputs": [
    {
     "name": "stdout",
     "output_type": "stream",
     "text": [
      "abd\n",
      "4\n",
      "kkl\n",
      "None\n",
      "NA\n",
      "kkl\n",
      "{110: 'abd', 342: 'mln', 987: 'olm'}\n",
      "{110: 'abd', 987: 'olm'}\n",
      "{110: 'abd', 987: 'olm', 103: 'xvr'}\n",
      "(103, 'xvr')\n"
     ]
    }
   ],
   "source": [
    "d = {110:\"abd\",220:\"kkl\",342:\"mln\",987:\"olm\"}\n",
    "print(d[110])\n",
    "print(len(d))\n",
    "print(d.get(220))\n",
    "print(d.get(345))\n",
    "print(d.get(453,\"NA\"))\n",
    "print(d.pop(220))\n",
    "print(d)\n",
    "del d[342]\n",
    "print(d)\n",
    "d[103]=\"xvr\"\n",
    "print(d)\n",
    "print(d.popitem())"
   ]
  },
  {
   "cell_type": "markdown",
   "metadata": {},
   "source": [
    "### Count distinct elements in a list"
   ]
  },
  {
   "cell_type": "code",
   "execution_count": 42,
   "metadata": {},
   "outputs": [
    {
     "name": "stdout",
     "output_type": "stream",
     "text": [
      "3\n"
     ]
    }
   ],
   "source": [
    "l = [10,10,20,20,20,30]\n",
    "s = set(l)\n",
    "print(len(s))"
   ]
  },
  {
   "cell_type": "markdown",
   "metadata": {},
   "source": [
    "### Count Non-Repeated elements"
   ]
  },
  {
   "cell_type": "code",
   "execution_count": 2,
   "metadata": {},
   "outputs": [
    {
     "name": "stdout",
     "output_type": "stream",
     "text": [
      "5\n"
     ]
    }
   ],
   "source": [
    "l = [10,10,20,20,20,30,56,7,8,90]\n",
    "d = dict()\n",
    "for i in l:\n",
    "    d[i] = d.get(i,0) + 1\n",
    "cnt = 0 \n",
    "for k,v in d.items():\n",
    "    if v == 1 : cnt +=1\n",
    "print(cnt)"
   ]
  },
  {
   "cell_type": "markdown",
   "metadata": {},
   "source": [
    "### Print first Non-repeating character in String"
   ]
  },
  {
   "cell_type": "code",
   "execution_count": 6,
   "metadata": {},
   "outputs": [
    {
     "name": "stdout",
     "output_type": "stream",
     "text": [
      "a\n"
     ]
    }
   ],
   "source": [
    "s = \"xyxsdfaysdddflsdd\"\n",
    "d = dict()\n",
    "for i in s:\n",
    "    d[i] = d.get(i,0)+1\n",
    "for i in s:\n",
    "    if d[i] == 1:\n",
    "        print(i)\n",
    "        break"
   ]
  },
  {
   "cell_type": "markdown",
   "metadata": {},
   "source": [
    "### Find two numbers in given array that have sum equal to given sum"
   ]
  },
  {
   "cell_type": "code",
   "execution_count": 10,
   "metadata": {},
   "outputs": [
    {
     "data": {
      "text/plain": [
       "(10, 4)"
      ]
     },
     "execution_count": 10,
     "metadata": {},
     "output_type": "execute_result"
    }
   ],
   "source": [
    "def SumExists(arr,sum):\n",
    "    s = set()\n",
    "    for i in arr:\n",
    "        if i in s : return (i,sum-i)\n",
    "        s.add(sum-i)\n",
    "    return -1\n",
    "SumExists([12,3,46,4,10,4],14)"
   ]
  },
  {
   "cell_type": "markdown",
   "metadata": {},
   "source": [
    "### Check for Palindrom Permutation"
   ]
  },
  {
   "cell_type": "code",
   "execution_count": 3,
   "metadata": {},
   "outputs": [
    {
     "name": "stdout",
     "output_type": "stream",
     "text": [
      "False\n",
      "True\n"
     ]
    }
   ],
   "source": [
    "# Count the number of characters with odd occurences\n",
    "# if characters with odd occurences are 0 or 1 then true else false\n",
    "def checkPalindromeExists(s):\n",
    "    d = dict()\n",
    "    no_with_odd_oc = 0\n",
    "    for i in s:\n",
    "        d[i] = d.get(i,0)+1\n",
    "    for i in d.values():\n",
    "        if i % 2 ==0 : continue\n",
    "        else : no_with_odd_oc+=1\n",
    "    if no_with_odd_oc<=1 : return True\n",
    "    return False\n",
    "print(checkPalindromeExists('geeks'))\n",
    "print(checkPalindromeExists('ggeekss'))"
   ]
  },
  {
   "cell_type": "markdown",
   "metadata": {},
   "source": [
    "### Subarray with sum 0"
   ]
  },
  {
   "cell_type": "code",
   "execution_count": 6,
   "metadata": {},
   "outputs": [
    {
     "name": "stdout",
     "output_type": "stream",
     "text": [
      "True\n",
      "True\n"
     ]
    }
   ],
   "source": [
    "# if sum of a[i:j] is 0 for some index i,j then prefix_sum1 must be same as prefix_sum2\n",
    "# [a1,a2,a3....ai,ai+1,.......aj,aj+1...an]\n",
    "#---prefix_sum--|--prefix_sum--|-------------\n",
    "def subarraysumzero(arr):\n",
    "    s = set()\n",
    "    prefix_sum = 0\n",
    "    for i in arr:\n",
    "        prefix_sum +=i\n",
    "        if prefix_sum in s or prefix_sum==0:return True\n",
    "        s.add(prefix_sum)\n",
    "    return False\n",
    "print(subarraysumzero([3,-2,-1]))\n",
    "print(subarraysumzero([-3,4,-3,-1,1]))"
   ]
  }
 ],
 "metadata": {
  "kernelspec": {
   "display_name": "Python 3",
   "language": "python",
   "name": "python3"
  },
  "language_info": {
   "codemirror_mode": {
    "name": "ipython",
    "version": 3
   },
   "file_extension": ".py",
   "mimetype": "text/x-python",
   "name": "python",
   "nbconvert_exporter": "python",
   "pygments_lexer": "ipython3",
   "version": "3.8.5"
  }
 },
 "nbformat": 4,
 "nbformat_minor": 4
}
